{
  "nbformat": 4,
  "nbformat_minor": 0,
  "metadata": {
    "colab": {
      "provenance": [],
      "authorship_tag": "ABX9TyNbRBBjPtv6o2H+4gieIkP8",
      "include_colab_link": true
    },
    "kernelspec": {
      "name": "python3",
      "display_name": "Python 3"
    },
    "language_info": {
      "name": "python"
    }
  },
  "cells": [
    {
      "cell_type": "markdown",
      "metadata": {
        "id": "view-in-github",
        "colab_type": "text"
      },
      "source": [
        "<a href=\"https://colab.research.google.com/github/naufalfrdss/DeepLearning/blob/main/UAS/Chapter%204/Training_Models.ipynb\" target=\"_parent\"><img src=\"https://colab.research.google.com/assets/colab-badge.svg\" alt=\"Open In Colab\"/></a>"
      ]
    },
    {
      "cell_type": "markdown",
      "source": [
        "Linear Regression menggunakan Normal Equation"
      ],
      "metadata": {
        "id": "DGFptvjfFwZp"
      }
    },
    {
      "cell_type": "code",
      "execution_count": 1,
      "metadata": {
        "colab": {
          "base_uri": "https://localhost:8080/"
        },
        "id": "R0rv42ENFudC",
        "outputId": "4d92583f-aa55-47a0-d372-bb0d28aac3cd"
      },
      "outputs": [
        {
          "output_type": "stream",
          "name": "stdout",
          "text": [
            "Intercept: [4.00262847], Coef: [[3.05699655]]\n"
          ]
        }
      ],
      "source": [
        "# Linear Regression (Normal Equation)\n",
        "import numpy as np\n",
        "import matplotlib.pyplot as plt\n",
        "from sklearn.linear_model import LinearRegression\n",
        "\n",
        "# Generate data: y = 4 + 3x + noise\n",
        "X = 2 * np.random.rand(100, 1)\n",
        "y = 4 + 3 * X + np.random.randn(100, 1)\n",
        "\n",
        "# Linear Regression via scikit-learn\n",
        "lin_reg = LinearRegression()\n",
        "lin_reg.fit(X, y)\n",
        "\n",
        "print(f\"Intercept: {lin_reg.intercept_}, Coef: {lin_reg.coef_}\")\n"
      ]
    },
    {
      "cell_type": "markdown",
      "source": [
        "Gradient Descent Manual"
      ],
      "metadata": {
        "id": "iKqKZtNOFyLW"
      }
    },
    {
      "cell_type": "code",
      "source": [
        "# Implementasi manual Gradient Descent\n",
        "eta = 0.1  # Learning rate\n",
        "n_iterations = 1000\n",
        "m = 100\n",
        "theta = np.random.randn(2,1)  # Inisialisasi acak parameter\n",
        "\n",
        "# Tambahkan x0 = 1 ke setiap fitur untuk bias term\n",
        "X_b = np.c_[np.ones((m,1)), X]\n",
        "\n",
        "# Iterasi gradient descent\n",
        "for iteration in range(n_iterations):\n",
        "    gradients = 2/m * X_b.T.dot(X_b.dot(theta) - y)\n",
        "    theta = theta - eta * gradients\n",
        "\n",
        "print(\"Theta from Gradient Descent:\", theta)\n"
      ],
      "metadata": {
        "colab": {
          "base_uri": "https://localhost:8080/"
        },
        "id": "65yu1By-F0HQ",
        "outputId": "7f8c5527-1599-4154-9b32-18ecdcc1efae"
      },
      "execution_count": 2,
      "outputs": [
        {
          "output_type": "stream",
          "name": "stdout",
          "text": [
            "Theta from Gradient Descent: [[4.00262847]\n",
            " [3.05699655]]\n"
          ]
        }
      ]
    },
    {
      "cell_type": "markdown",
      "source": [
        "Polynomial Regression"
      ],
      "metadata": {
        "id": "a5ux5WnmF3If"
      }
    },
    {
      "cell_type": "code",
      "source": [
        "# Polynomial Regression\n",
        "from sklearn.preprocessing import PolynomialFeatures\n",
        "from sklearn.pipeline import Pipeline\n",
        "from sklearn.linear_model import LinearRegression\n",
        "\n",
        "# Pipeline: polynomial transform + linear regression\n",
        "poly_reg = Pipeline([\n",
        "    (\"poly_features\", PolynomialFeatures(degree=2, include_bias=False)),\n",
        "    (\"lin_reg\", LinearRegression())\n",
        "])\n",
        "poly_reg.fit(X, y)\n",
        "\n",
        "# Prediksi untuk x = 1.5\n",
        "print(\"Polynomial Prediction (x=1.5):\", poly_reg.predict([[1.5]]))\n"
      ],
      "metadata": {
        "colab": {
          "base_uri": "https://localhost:8080/"
        },
        "id": "qMNwKZvbF3u5",
        "outputId": "ef0e8a46-9f46-4686-ccc9-fb97742ff357"
      },
      "execution_count": 3,
      "outputs": [
        {
          "output_type": "stream",
          "name": "stdout",
          "text": [
            "Polynomial Prediction (x=1.5): [[8.61054613]]\n"
          ]
        }
      ]
    },
    {
      "cell_type": "markdown",
      "source": [
        "Plot Learning Curves"
      ],
      "metadata": {
        "id": "ejH29BbiF5At"
      }
    },
    {
      "cell_type": "code",
      "source": [
        "# Learning Curve Function\n",
        "from sklearn.metrics import mean_squared_error\n",
        "from sklearn.model_selection import train_test_split\n",
        "\n",
        "def plot_learning_curves(model, X, y):\n",
        "    X_train, X_val, y_train, y_val = train_test_split(X, y, test_size=0.2)\n",
        "    train_errors, val_errors = [], []\n",
        "    for m in range(1, len(X_train)):\n",
        "        model.fit(X_train[:m], y_train[:m])\n",
        "        y_train_predict = model.predict(X_train[:m])\n",
        "        y_val_predict = model.predict(X_val)\n",
        "        train_errors.append(mean_squared_error(y_train[:m], y_train_predict))\n",
        "        val_errors.append(mean_squared_error(y_val, y_val_predict))\n",
        "    plt.plot(np.sqrt(train_errors), \"r-+\", label=\"Train\")\n",
        "    plt.plot(np.sqrt(val_errors), \"b-\", label=\"Validation\")\n",
        "    plt.legend()\n",
        "    plt.grid()\n",
        "    plt.ylabel(\"RMSE\")\n",
        "    plt.xlabel(\"Training set size\")\n",
        "    plt.title(\"Learning Curves\")\n",
        "\n",
        "plot_learning_curves(LinearRegression(), X, y)\n"
      ],
      "metadata": {
        "colab": {
          "base_uri": "https://localhost:8080/",
          "height": 472
        },
        "id": "dyJAT_CHF82I",
        "outputId": "16043267-3391-4555-95cd-b7c8ef8b762d"
      },
      "execution_count": 4,
      "outputs": [
        {
          "output_type": "display_data",
          "data": {
            "text/plain": [
              "<Figure size 640x480 with 1 Axes>"
            ],
            "image/png": "[encoded data removed]"
          },
          "metadata": {}
        }
      ]
    },
    {
      "cell_type": "markdown",
      "source": [
        "Ridge Regression"
      ],
      "metadata": {
        "id": "q49EHAiVF_mw"
      }
    },
    {
      "cell_type": "code",
      "source": [
        "# Ridge Regression (L2 Regularization)\n",
        "from sklearn.linear_model import Ridge\n",
        "\n",
        "ridge_reg = Ridge(alpha=1, solver=\"cholesky\")\n",
        "ridge_reg.fit(X, y)\n",
        "\n",
        "print(\"Ridge Prediction (x=1.5):\", ridge_reg.predict([[1.5]]))\n"
      ],
      "metadata": {
        "colab": {
          "base_uri": "https://localhost:8080/"
        },
        "id": "5LMq88chGAPw",
        "outputId": "c4bf3ffd-ad01-4df9-e761-adca0411835f"
      },
      "execution_count": 5,
      "outputs": [
        {
          "output_type": "stream",
          "name": "stdout",
          "text": [
            "Ridge Prediction (x=1.5): [8.54616099]\n"
          ]
        }
      ]
    },
    {
      "cell_type": "markdown",
      "source": [
        "Lasso Regression"
      ],
      "metadata": {
        "id": "I5kopYbBGCDa"
      }
    },
    {
      "cell_type": "code",
      "source": [
        "# Lasso Regression (L1 Regularization)\n",
        "from sklearn.linear_model import Lasso\n",
        "\n",
        "lasso_reg = Lasso(alpha=0.1)\n",
        "lasso_reg.fit(X, y)\n",
        "\n",
        "print(\"Lasso Prediction (x=1.5):\", lasso_reg.predict([[1.5]]))\n"
      ],
      "metadata": {
        "colab": {
          "base_uri": "https://localhost:8080/"
        },
        "id": "82HpolEZGEGf",
        "outputId": "d3b50331-0d51-4cb0-c45e-6577518712bb"
      },
      "execution_count": 6,
      "outputs": [
        {
          "output_type": "stream",
          "name": "stdout",
          "text": [
            "Lasso Prediction (x=1.5): [8.44660465]\n"
          ]
        }
      ]
    },
    {
      "cell_type": "markdown",
      "source": [
        "Elastic Net"
      ],
      "metadata": {
        "id": "eKBMEmAUGF8j"
      }
    },
    {
      "cell_type": "code",
      "source": [
        "# Elastic Net = kombinasi L1 dan L2 regularization\n",
        "from sklearn.linear_model import ElasticNet\n",
        "\n",
        "elastic_net = ElasticNet(alpha=0.1, l1_ratio=0.5)\n",
        "elastic_net.fit(X, y)\n",
        "\n",
        "print(\"ElasticNet Prediction (x=1.5):\", elastic_net.predict([[1.5]]))\n"
      ],
      "metadata": {
        "colab": {
          "base_uri": "https://localhost:8080/"
        },
        "id": "jhqEFDM3GGZ0",
        "outputId": "18f3b5f9-d690-43d2-e928-83fb30d1021a"
      },
      "execution_count": 7,
      "outputs": [
        {
          "output_type": "stream",
          "name": "stdout",
          "text": [
            "ElasticNet Prediction (x=1.5): [8.33955345]\n"
          ]
        }
      ]
    },
    {
      "cell_type": "markdown",
      "source": [
        "Early Stopping dengan SGD"
      ],
      "metadata": {
        "id": "JZEMyh9lGInh"
      }
    },
    {
      "cell_type": "code",
      "source": [
        "# SGD Regressor tanpa regularisasi (early stopping)\n",
        "from sklearn.linear_model import SGDRegressor\n",
        "\n",
        "sgd_reg = SGDRegressor(penalty=None, eta0=0.1, max_iter=1000)\n",
        "sgd_reg.fit(X, y.ravel())\n",
        "\n",
        "print(\"SGD Prediction (x=1.5):\", sgd_reg.predict([[1.5]]))\n"
      ],
      "metadata": {
        "colab": {
          "base_uri": "https://localhost:8080/"
        },
        "id": "KKbbZhu3GJGI",
        "outputId": "9d590c9a-137b-4c6b-9ea0-7db57c907615"
      },
      "execution_count": 8,
      "outputs": [
        {
          "output_type": "stream",
          "name": "stdout",
          "text": [
            "SGD Prediction (x=1.5): [8.63975741]\n"
          ]
        }
      ]
    }
  ]
}