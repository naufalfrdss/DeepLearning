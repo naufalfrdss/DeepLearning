{
  "nbformat": 4,
  "nbformat_minor": 0,
  "metadata": {
    "colab": {
      "provenance": [],
      "authorship_tag": "ABX9TyNrTD45tM9TbwxLHlSHWouJ",
      "include_colab_link": true
    },
    "kernelspec": {
      "name": "python3",
      "display_name": "Python 3"
    },
    "language_info": {
      "name": "python"
    }
  },
  "cells": [
    {
      "cell_type": "markdown",
      "metadata": {
        "id": "view-in-github",
        "colab_type": "text"
      },
      "source": [
        "<a href=\"https://colab.research.google.com/github/naufalfrdss/DeepLearning/blob/main/UAS/Chapter%2018/Reinforcement_Learning.ipynb\" target=\"_parent\"><img src=\"https://colab.research.google.com/assets/colab-badge.svg\" alt=\"Open In Colab\"/></a>"
      ]
    },
    {
      "cell_type": "markdown",
      "source": [
        "# 🔁 Reinforcement Learning (RL) - Ringkasan Kompleks Singkat\n",
        "\n",
        "## 🧠 Konsep Inti RL\n",
        "\n",
        "- **Agent**: Entitas yang belajar dari pengalaman (contoh: robot, AI).\n",
        "- **Environment**: Dunia tempat agent berinteraksi (misal: `CartPole`, `LunarLander`).\n",
        "- **State (`s`)**, **Action (`a`)**, **Reward (`r`)**: Unit interaksi utama antara agent dan environment.\n",
        "- **Policy (`π(a|s)`)**: Strategi agent untuk memilih aksi berdasarkan state.\n",
        "- **Return (`G_t`)**: Total reward kumulatif yang didiskonto dari waktu `t`.\n",
        "- **Objective**: Memaksimalkan fungsi objektif:\n",
        "  $\n",
        "  \\[\n",
        "  J(θ) = \\mathbb{E}[G_t]\n",
        "  \\]\n",
        "  $\n",
        "  dengan mengoptimasi parameter policy `θ`.\n",
        "\n",
        "---\n",
        "\n",
        "## 📌 Algoritma: Policy Gradient\n",
        "\n",
        "- **Tujuan**: Mempelajari parameter `θ` yang memaksimalkan expected return.\n",
        "- **Rumus Gradien**:\n",
        "\n",
        "  $\\[\n",
        "  \\nabla J(θ) = \\mathbb{E}_{π_θ} \\left[ \\nabla_θ \\log π_θ(a|s) \\cdot G_t \\right]\n",
        "  $\\]\n",
        "\n",
        "- **Pendekatan**:\n",
        "  - Monte Carlo estimation untuk menghitung `G_t`.\n",
        "  - Gradient ascent untuk memperbarui `θ`.\n",
        "  - Digunakan dalam algoritma seperti REINFORCE.\n",
        "\n",
        "---\n",
        "\n",
        "> Cocok digunakan pada masalah dengan action space diskrit dan episode berdurasi pendek.\n"
      ],
      "metadata": {
        "id": "1774q4W5Jglp"
      }
    },
    {
      "cell_type": "markdown",
      "source": [
        "Setup dan Environment"
      ],
      "metadata": {
        "id": "BpkIonjrJzcJ"
      }
    },
    {
      "cell_type": "code",
      "execution_count": 1,
      "metadata": {
        "colab": {
          "base_uri": "https://localhost:8080/"
        },
        "id": "ZspHewlHJbzj",
        "outputId": "2cf67e0d-a267-47f0-a2c2-04ea88bacef2"
      },
      "outputs": [
        {
          "output_type": "stream",
          "name": "stderr",
          "text": [
            "/usr/local/lib/python3.11/dist-packages/gym/core.py:317: DeprecationWarning: \u001b[33mWARN: Initializing wrapper in old step API which returns one bool instead of two. It is recommended to set `new_step_api=True` to use new step API. This will be the default behaviour in future.\u001b[0m\n",
            "  deprecation(\n",
            "/usr/local/lib/python3.11/dist-packages/gym/wrappers/step_api_compatibility.py:39: DeprecationWarning: \u001b[33mWARN: Initializing environment in old step API which returns one bool instead of two. It is recommended to set `new_step_api=True` to use new step API. This will be the default behaviour in future.\u001b[0m\n",
            "  deprecation(\n"
          ]
        }
      ],
      "source": [
        "import gym\n",
        "import numpy as np\n",
        "import tensorflow as tf\n",
        "import matplotlib.pyplot as plt\n",
        "\n",
        "env = gym.make(\"CartPole-v1\")\n",
        "n_inputs = env.observation_space.shape[0]\n",
        "n_actions = env.action_space.n\n"
      ]
    },
    {
      "cell_type": "markdown",
      "source": [
        "Neural Network Policy"
      ],
      "metadata": {
        "id": "YHB0YEmSJ2AB"
      }
    },
    {
      "cell_type": "code",
      "source": [
        "model = tf.keras.models.Sequential([\n",
        "    tf.keras.layers.Input(shape=(n_inputs,)),\n",
        "    tf.keras.layers.Dense(16, activation=\"relu\"),\n",
        "    tf.keras.layers.Dense(32, activation=\"relu\"),\n",
        "    tf.keras.layers.Dense(n_actions, activation=\"softmax\")\n",
        "])\n",
        "optimizer = tf.keras.optimizers.Adam(learning_rate=0.01)\n"
      ],
      "metadata": {
        "id": "P961wPauJ25h"
      },
      "execution_count": 2,
      "outputs": []
    },
    {
      "cell_type": "markdown",
      "source": [
        "Discounted Rewards"
      ],
      "metadata": {
        "id": "wY9FDqA2J4HK"
      }
    },
    {
      "cell_type": "code",
      "source": [
        "def discount_rewards(rewards, gamma=0.95):\n",
        "    discounted = np.zeros_like(rewards, dtype=np.float32)\n",
        "    running_add = 0\n",
        "    for t in reversed(range(len(rewards))):\n",
        "        running_add = rewards[t] + gamma * running_add\n",
        "        discounted[t] = running_add\n",
        "    discounted -= np.mean(discounted)\n",
        "    discounted /= (np.std(discounted) + 1e-8)\n",
        "    return discounted\n"
      ],
      "metadata": {
        "id": "lJpvw7P9J5HZ"
      },
      "execution_count": 3,
      "outputs": []
    },
    {
      "cell_type": "markdown",
      "source": [
        "Episode Simulation & Gradient Calculation"
      ],
      "metadata": {
        "id": "H62qaGkyJ6kR"
      }
    },
    {
      "cell_type": "code",
      "source": [
        "import numpy as np\n",
        "if not hasattr(np, 'bool8'):\n",
        "    np.bool8 = np.bool_"
      ],
      "metadata": {
        "id": "Il_TwVNmKYfJ"
      },
      "execution_count": 8,
      "outputs": []
    },
    {
      "cell_type": "code",
      "source": [
        "def play_episode(env, model, gamma=0.95):\n",
        "    state = env.reset()\n",
        "    rewards, grads = [], []\n",
        "    done = False\n",
        "\n",
        "    while not done:\n",
        "        with tf.GradientTape() as tape:\n",
        "            state_input = tf.convert_to_tensor([state], dtype=tf.float32)\n",
        "            probs = model(state_input, training=True)\n",
        "            action = np.random.choice(n_actions, p=np.squeeze(probs))\n",
        "            loss = tf.keras.losses.sparse_categorical_crossentropy(\n",
        "                tf.convert_to_tensor([action]), probs\n",
        "            )\n",
        "\n",
        "        grads.append(tape.gradient(loss, model.trainable_variables))\n",
        "        next_state, reward, done, _ = env.step(action)\n",
        "        rewards.append(reward)\n",
        "        state = next_state\n",
        "\n",
        "    discounted = discount_rewards(rewards, gamma)\n",
        "    return grads, discounted, sum(rewards)"
      ],
      "metadata": {
        "id": "FJMfJDY9J7QY"
      },
      "execution_count": 13,
      "outputs": []
    },
    {
      "cell_type": "markdown",
      "source": [
        "Training Loop"
      ],
      "metadata": {
        "id": "VcZyrY3vJ8l6"
      }
    },
    {
      "cell_type": "code",
      "source": [
        "n_iterations = 100\n",
        "n_episodes_per_update = 10\n",
        "all_mean_rewards = []"
      ],
      "metadata": {
        "id": "KGgsyEqjMgmp"
      },
      "execution_count": 14,
      "outputs": []
    },
    {
      "cell_type": "code",
      "source": [
        "for iteration in range(n_iterations):\n",
        "    all_grads = []\n",
        "    total_reward = 0\n",
        "\n",
        "    for _ in range(n_episodes_per_update):\n",
        "        grads, discounted, reward_sum = play_episode(env, model)\n",
        "        total_reward += reward_sum\n",
        "        for grad, disc in zip(grads, discounted):\n",
        "            all_grads.append([g * disc for g in grad])\n",
        "\n",
        "    mean_reward = total_reward / n_episodes_per_update\n",
        "    all_mean_rewards.append(mean_reward)\n",
        "\n",
        "    # Mean of all grads\n",
        "    mean_grads = [tf.reduce_mean([g[i] for g in all_grads if g[i] is not None], axis=0)\n",
        "                  for i in range(len(model.trainable_variables))]\n",
        "\n",
        "    optimizer.apply_gradients(zip(mean_grads, model.trainable_variables))\n",
        "    print(f\"Iter {iteration + 1}: Mean Reward = {mean_reward:.2f}\")"
      ],
      "metadata": {
        "colab": {
          "base_uri": "https://localhost:8080/"
        },
        "id": "ln4nXNsPJ9d5",
        "outputId": "ddf5152d-bacb-42f5-f58d-0b024272f69c"
      },
      "execution_count": 15,
      "outputs": [
        {
          "output_type": "stream",
          "name": "stdout",
          "text": [
            "Iter 1: Mean Reward = 153.40\n",
            "Iter 2: Mean Reward = 159.90\n",
            "Iter 3: Mean Reward = 152.90\n",
            "Iter 4: Mean Reward = 157.40\n",
            "Iter 5: Mean Reward = 177.60\n",
            "Iter 6: Mean Reward = 206.30\n",
            "Iter 7: Mean Reward = 269.20\n",
            "Iter 8: Mean Reward = 326.10\n",
            "Iter 9: Mean Reward = 423.00\n",
            "Iter 10: Mean Reward = 483.70\n",
            "Iter 11: Mean Reward = 500.00\n",
            "Iter 12: Mean Reward = 458.30\n",
            "Iter 13: Mean Reward = 499.00\n",
            "Iter 14: Mean Reward = 493.00\n",
            "Iter 15: Mean Reward = 500.00\n",
            "Iter 16: Mean Reward = 500.00\n",
            "Iter 17: Mean Reward = 495.10\n",
            "Iter 18: Mean Reward = 492.50\n",
            "Iter 19: Mean Reward = 464.00\n",
            "Iter 20: Mean Reward = 494.80\n",
            "Iter 21: Mean Reward = 466.30\n",
            "Iter 22: Mean Reward = 468.00\n",
            "Iter 23: Mean Reward = 491.70\n",
            "Iter 24: Mean Reward = 500.00\n",
            "Iter 25: Mean Reward = 500.00\n",
            "Iter 26: Mean Reward = 500.00\n",
            "Iter 27: Mean Reward = 500.00\n",
            "Iter 28: Mean Reward = 500.00\n",
            "Iter 29: Mean Reward = 500.00\n",
            "Iter 30: Mean Reward = 491.10\n",
            "Iter 31: Mean Reward = 500.00\n",
            "Iter 32: Mean Reward = 500.00\n",
            "Iter 33: Mean Reward = 500.00\n",
            "Iter 34: Mean Reward = 500.00\n",
            "Iter 35: Mean Reward = 494.80\n",
            "Iter 36: Mean Reward = 494.80\n",
            "Iter 37: Mean Reward = 482.30\n",
            "Iter 38: Mean Reward = 396.70\n",
            "Iter 39: Mean Reward = 451.10\n",
            "Iter 40: Mean Reward = 445.20\n",
            "Iter 41: Mean Reward = 450.40\n",
            "Iter 42: Mean Reward = 470.70\n",
            "Iter 43: Mean Reward = 443.00\n",
            "Iter 44: Mean Reward = 433.80\n",
            "Iter 45: Mean Reward = 458.50\n",
            "Iter 46: Mean Reward = 393.50\n",
            "Iter 47: Mean Reward = 418.40\n",
            "Iter 48: Mean Reward = 412.10\n",
            "Iter 49: Mean Reward = 470.90\n",
            "Iter 50: Mean Reward = 413.80\n",
            "Iter 51: Mean Reward = 439.80\n",
            "Iter 52: Mean Reward = 434.90\n",
            "Iter 53: Mean Reward = 434.20\n",
            "Iter 54: Mean Reward = 449.80\n",
            "Iter 55: Mean Reward = 440.80\n",
            "Iter 56: Mean Reward = 466.40\n",
            "Iter 57: Mean Reward = 453.60\n",
            "Iter 58: Mean Reward = 467.80\n",
            "Iter 59: Mean Reward = 426.10\n",
            "Iter 60: Mean Reward = 439.80\n",
            "Iter 61: Mean Reward = 344.10\n",
            "Iter 62: Mean Reward = 311.10\n",
            "Iter 63: Mean Reward = 256.70\n",
            "Iter 64: Mean Reward = 294.20\n",
            "Iter 65: Mean Reward = 231.80\n",
            "Iter 66: Mean Reward = 219.50\n",
            "Iter 67: Mean Reward = 166.40\n",
            "Iter 68: Mean Reward = 195.00\n",
            "Iter 69: Mean Reward = 195.00\n",
            "Iter 70: Mean Reward = 174.20\n",
            "Iter 71: Mean Reward = 208.30\n",
            "Iter 72: Mean Reward = 206.00\n",
            "Iter 73: Mean Reward = 231.70\n",
            "Iter 74: Mean Reward = 266.20\n",
            "Iter 75: Mean Reward = 217.30\n",
            "Iter 76: Mean Reward = 204.00\n",
            "Iter 77: Mean Reward = 195.20\n",
            "Iter 78: Mean Reward = 232.50\n",
            "Iter 79: Mean Reward = 241.70\n",
            "Iter 80: Mean Reward = 257.10\n",
            "Iter 81: Mean Reward = 269.50\n",
            "Iter 82: Mean Reward = 262.70\n",
            "Iter 83: Mean Reward = 268.80\n",
            "Iter 84: Mean Reward = 377.60\n",
            "Iter 85: Mean Reward = 380.80\n",
            "Iter 86: Mean Reward = 441.80\n",
            "Iter 87: Mean Reward = 500.00\n",
            "Iter 88: Mean Reward = 500.00\n",
            "Iter 89: Mean Reward = 500.00\n",
            "Iter 90: Mean Reward = 500.00\n",
            "Iter 91: Mean Reward = 500.00\n",
            "Iter 92: Mean Reward = 500.00\n",
            "Iter 93: Mean Reward = 498.60\n",
            "Iter 94: Mean Reward = 474.00\n",
            "Iter 95: Mean Reward = 487.90\n",
            "Iter 96: Mean Reward = 483.00\n",
            "Iter 97: Mean Reward = 480.40\n",
            "Iter 98: Mean Reward = 483.40\n",
            "Iter 99: Mean Reward = 464.30\n",
            "Iter 100: Mean Reward = 471.80\n"
          ]
        }
      ]
    },
    {
      "cell_type": "markdown",
      "source": [
        "Visualisasi"
      ],
      "metadata": {
        "id": "8nMLpC_YJ-8a"
      }
    },
    {
      "cell_type": "code",
      "source": [
        "plt.plot(all_mean_rewards)\n",
        "plt.xlabel(\"Iteration\")\n",
        "plt.ylabel(\"Mean Reward\")\n",
        "plt.title(\"Policy Gradient Training Progress\")\n",
        "plt.grid(True)\n",
        "plt.show()\n"
      ],
      "metadata": {
        "colab": {
          "base_uri": "https://localhost:8080/",
          "height": 472
        },
        "id": "50x9TkvvJ_sQ",
        "outputId": "d9c04ac1-6a56-4f89-f5c2-3a85a72639f9"
      },
      "execution_count": 16,
      "outputs": [
        {
          "output_type": "display_data",
          "data": {
            "text/plain": [
              "<Figure size 640x480 with 1 Axes>"
            ],
            "image/png": "[encoded data removed]"
          },
          "metadata": {}
        }
      ]
    }
  ]
}