{
  "nbformat": 4,
  "nbformat_minor": 0,
  "metadata": {
    "colab": {
      "provenance": [],
      "authorship_tag": "ABX9TyPb6WiEN0RV/6lMQF1AFYJI",
      "include_colab_link": true
    },
    "kernelspec": {
      "name": "python3",
      "display_name": "Python 3"
    },
    "language_info": {
      "name": "python"
    }
  },
  "cells": [
    {
      "cell_type": "markdown",
      "metadata": {
        "id": "view-in-github",
        "colab_type": "text"
      },
      "source": [
        "<a href=\"https://colab.research.google.com/github/naufalfrdss/DeepLearning/blob/main/UAS/Chapter%2019/Training_and_Deploying_at_Scale_ipynb.ipynb\" target=\"_parent\"><img src=\"https://colab.research.google.com/assets/colab-badge.svg\" alt=\"Open In Colab\"/></a>"
      ]
    },
    {
      "cell_type": "markdown",
      "source": [
        "### 1. Load & Preprocess Data\n",
        "\n",
        "Dataset **MNIST** dimuat menggunakan `keras.datasets`, lalu dinormalisasi ke rentang [0, 1]. Dataset dibagi menjadi:\n",
        "\n",
        "- **Training set**: data utama untuk melatih model\n",
        "- **Validation set**: untuk memantau performa model selama training\n",
        "- **Test set**: untuk evaluasi akhir\n",
        "\n",
        "---"
      ],
      "metadata": {
        "id": "nz8lvVF5j3jF"
      }
    },
    {
      "cell_type": "code",
      "execution_count": 1,
      "metadata": {
        "colab": {
          "base_uri": "https://localhost:8080/"
        },
        "id": "dYKiT7auiaWJ",
        "outputId": "07b0b346-787b-40d5-eb5d-9f6c3f61f27a"
      },
      "outputs": [
        {
          "output_type": "stream",
          "name": "stdout",
          "text": [
            "Downloading data from https://storage.googleapis.com/tensorflow/tf-keras-datasets/mnist.npz\n",
            "\u001b[1m11490434/11490434\u001b[0m \u001b[32m━━━━━━━━━━━━━━━━━━━━\u001b[0m\u001b[37m\u001b[0m \u001b[1m0s\u001b[0m 0us/step\n"
          ]
        }
      ],
      "source": [
        "from tensorflow import keras\n",
        "import numpy as np\n",
        "\n",
        "(X_train_full, y_train_full), (X_test, y_test) = keras.datasets.mnist.load_data()\n",
        "X_train_full = X_train_full.astype(\"float32\") / 255.0\n",
        "X_test = X_test.astype(\"float32\") / 255.0\n",
        "\n",
        "X_valid, X_train = X_train_full[:5000], X_train_full[5000:]\n",
        "y_valid, y_train = y_train_full[:5000], y_train_full[5000:]\n"
      ]
    },
    {
      "cell_type": "markdown",
      "source": [
        "### 2. Build & Train the Model\n",
        "\n",
        "Model dibangun menggunakan `Sequential API` dengan arsitektur:\n",
        "\n",
        "- `Flatten`: mengubah input 28x28 menjadi 784\n",
        "- `Dense(300, relu)` dan `Dense(100, relu)`: hidden layers\n",
        "- `Dense(10, softmax)`: output layer untuk klasifikasi 10 digit (0–9)\n",
        "\n",
        "Model dikompilasi dengan:\n",
        "- **Loss**: `sparse_categorical_crossentropy`\n",
        "- **Optimizer**: `Adam`\n",
        "- **Metrics**: `accuracy`\n",
        "\n",
        "Training dilakukan selama beberapa epoch dengan validasi pada data validasi.\n",
        "\n",
        "---"
      ],
      "metadata": {
        "id": "d9SB9-DGi4jt"
      }
    },
    {
      "cell_type": "code",
      "source": [
        "from tensorflow.keras import layers, models\n",
        "\n",
        "model = models.Sequential([\n",
        "    layers.Flatten(input_shape=[28, 28]),\n",
        "    layers.Dense(300, activation=\"relu\"),\n",
        "    layers.Dense(100, activation=\"relu\"),\n",
        "    layers.Dense(10, activation=\"softmax\")\n",
        "])\n",
        "\n",
        "model.compile(loss=\"sparse_categorical_crossentropy\", optimizer=\"adam\", metrics=[\"accuracy\"])\n",
        "history = model.fit(X_train, y_train, epochs=10, validation_data=(X_valid, y_valid))\n"
      ],
      "metadata": {
        "colab": {
          "base_uri": "https://localhost:8080/"
        },
        "id": "4On5V4hIi3iu",
        "outputId": "bbae2333-f150-4a04-a997-b52a6303818c"
      },
      "execution_count": 2,
      "outputs": [
        {
          "output_type": "stream",
          "name": "stderr",
          "text": [
            "/usr/local/lib/python3.11/dist-packages/keras/src/layers/reshaping/flatten.py:37: UserWarning: Do not pass an `input_shape`/`input_dim` argument to a layer. When using Sequential models, prefer using an `Input(shape)` object as the first layer in the model instead.\n",
            "  super().__init__(**kwargs)\n"
          ]
        },
        {
          "output_type": "stream",
          "name": "stdout",
          "text": [
            "Epoch 1/10\n",
            "\u001b[1m1719/1719\u001b[0m \u001b[32m━━━━━━━━━━━━━━━━━━━━\u001b[0m\u001b[37m\u001b[0m \u001b[1m11s\u001b[0m 5ms/step - accuracy: 0.8925 - loss: 0.3625 - val_accuracy: 0.9708 - val_loss: 0.0978\n",
            "Epoch 2/10\n",
            "\u001b[1m1719/1719\u001b[0m \u001b[32m━━━━━━━━━━━━━━━━━━━━\u001b[0m\u001b[37m\u001b[0m \u001b[1m12s\u001b[0m 6ms/step - accuracy: 0.9716 - loss: 0.0934 - val_accuracy: 0.9662 - val_loss: 0.1037\n",
            "Epoch 3/10\n",
            "\u001b[1m1719/1719\u001b[0m \u001b[32m━━━━━━━━━━━━━━━━━━━━\u001b[0m\u001b[37m\u001b[0m \u001b[1m20s\u001b[0m 6ms/step - accuracy: 0.9811 - loss: 0.0573 - val_accuracy: 0.9686 - val_loss: 0.1059\n",
            "Epoch 4/10\n",
            "\u001b[1m1719/1719\u001b[0m \u001b[32m━━━━━━━━━━━━━━━━━━━━\u001b[0m\u001b[37m\u001b[0m \u001b[1m10s\u001b[0m 6ms/step - accuracy: 0.9868 - loss: 0.0428 - val_accuracy: 0.9772 - val_loss: 0.0735\n",
            "Epoch 5/10\n",
            "\u001b[1m1719/1719\u001b[0m \u001b[32m━━━━━━━━━━━━━━━━━━━━\u001b[0m\u001b[37m\u001b[0m \u001b[1m9s\u001b[0m 5ms/step - accuracy: 0.9906 - loss: 0.0296 - val_accuracy: 0.9796 - val_loss: 0.0702\n",
            "Epoch 6/10\n",
            "\u001b[1m1719/1719\u001b[0m \u001b[32m━━━━━━━━━━━━━━━━━━━━\u001b[0m\u001b[37m\u001b[0m \u001b[1m10s\u001b[0m 6ms/step - accuracy: 0.9920 - loss: 0.0251 - val_accuracy: 0.9802 - val_loss: 0.0722\n",
            "Epoch 7/10\n",
            "\u001b[1m1719/1719\u001b[0m \u001b[32m━━━━━━━━━━━━━━━━━━━━\u001b[0m\u001b[37m\u001b[0m \u001b[1m21s\u001b[0m 6ms/step - accuracy: 0.9928 - loss: 0.0213 - val_accuracy: 0.9798 - val_loss: 0.0859\n",
            "Epoch 8/10\n",
            "\u001b[1m1719/1719\u001b[0m \u001b[32m━━━━━━━━━━━━━━━━━━━━\u001b[0m\u001b[37m\u001b[0m \u001b[1m19s\u001b[0m 5ms/step - accuracy: 0.9933 - loss: 0.0221 - val_accuracy: 0.9822 - val_loss: 0.0776\n",
            "Epoch 9/10\n",
            "\u001b[1m1719/1719\u001b[0m \u001b[32m━━━━━━━━━━━━━━━━━━━━\u001b[0m\u001b[37m\u001b[0m \u001b[1m10s\u001b[0m 6ms/step - accuracy: 0.9944 - loss: 0.0163 - val_accuracy: 0.9790 - val_loss: 0.0848\n",
            "Epoch 10/10\n",
            "\u001b[1m1719/1719\u001b[0m \u001b[32m━━━━━━━━━━━━━━━━━━━━\u001b[0m\u001b[37m\u001b[0m \u001b[1m10s\u001b[0m 6ms/step - accuracy: 0.9959 - loss: 0.0119 - val_accuracy: 0.9774 - val_loss: 0.0885\n"
          ]
        }
      ]
    },
    {
      "cell_type": "markdown",
      "source": [
        "### 3. Visualisasi Akurasi\n",
        "\n",
        "Akurasi training dan validasi diplot per epoch untuk mengevaluasi apakah terjadi **overfitting** atau **underfitting**.\n",
        "\n",
        "Visualisasi ini penting untuk memahami dinamika pelatihan model.\n",
        "\n",
        "---"
      ],
      "metadata": {
        "id": "FkjWQqLYi5pt"
      }
    },
    {
      "cell_type": "code",
      "source": [
        "import matplotlib.pyplot as plt\n",
        "\n",
        "plt.plot(history.history['accuracy'], label=\"Train\")\n",
        "plt.plot(history.history['val_accuracy'], label=\"Validation\")\n",
        "plt.xlabel(\"Epochs\")\n",
        "plt.ylabel(\"Accuracy\")\n",
        "plt.title(\"Training vs Validation Accuracy\")\n",
        "plt.legend()\n",
        "plt.grid()\n",
        "plt.show()\n"
      ],
      "metadata": {
        "colab": {
          "base_uri": "https://localhost:8080/",
          "height": 472
        },
        "id": "fg8zP2wUi6Q-",
        "outputId": "f68760b6-e308-4113-ab8a-8d3cf4fa15d2"
      },
      "execution_count": 3,
      "outputs": [
        {
          "output_type": "display_data",
          "data": {
            "text/plain": [
              "<Figure size 640x480 with 1 Axes>"
            ],
            "image/png": "[encoded data removed]"
          },
          "metadata": {}
        }
      ]
    },
    {
      "cell_type": "markdown",
      "source": [
        "### 4. Save Model for Deployment\n",
        "\n",
        "Model disimpan dalam format **SavedModel**, yang merupakan standar TensorFlow untuk menyimpan model dalam produksi."
      ],
      "metadata": {
        "id": "A-prqRPvi7gd"
      }
    },
    {
      "cell_type": "code",
      "source": [
        "import os\n",
        "\n",
        "from google.colab import drive\n",
        "drive.mount('/content/drive')\n",
        "\n",
        "drive_base_path = \"/content/drive/MyDrive\"\n",
        "model_name = \"mnist_model\"\n",
        "model_version = \"1\"\n",
        "model_path = os.path.join(drive_base_path, model_name, model_version)\n",
        "\n",
        "os.makedirs(model_path, exist_ok=True)\n",
        "\n",
        "model.export(model_path)"
      ],
      "metadata": {
        "colab": {
          "base_uri": "https://localhost:8080/"
        },
        "id": "6KfWQM0Di8As",
        "outputId": "5a03de65-bb85-40a5-d342-194cc56eca34"
      },
      "execution_count": 7,
      "outputs": [
        {
          "output_type": "stream",
          "name": "stdout",
          "text": [
            "Drive already mounted at /content/drive; to attempt to forcibly remount, call drive.mount(\"/content/drive\", force_remount=True).\n",
            "Saved artifact at '/content/drive/MyDrive/mnist_model/1'. The following endpoints are available:\n",
            "\n",
            "* Endpoint 'serve'\n",
            "  args_0 (POSITIONAL_ONLY): TensorSpec(shape=(None, 28, 28), dtype=tf.float32, name='keras_tensor')\n",
            "Output Type:\n",
            "  TensorSpec(shape=(None, 10), dtype=tf.float32, name=None)\n",
            "Captures:\n",
            "  134179464548176: TensorSpec(shape=(), dtype=tf.resource, name=None)\n",
            "  134179464549136: TensorSpec(shape=(), dtype=tf.resource, name=None)\n",
            "  134179464548560: TensorSpec(shape=(), dtype=tf.resource, name=None)\n",
            "  134179464548944: TensorSpec(shape=(), dtype=tf.resource, name=None)\n",
            "  134179464549328: TensorSpec(shape=(), dtype=tf.resource, name=None)\n",
            "  134179464546448: TensorSpec(shape=(), dtype=tf.resource, name=None)\n"
          ]
        }
      ]
    },
    {
      "cell_type": "markdown",
      "source": [
        "### 5. Inference & Visualisasi\n",
        "\n",
        "Model digunakan untuk memprediksi gambar digit baru dari test set, lalu hasilnya divisualisasikan.\n",
        "\n",
        "Setiap gambar yang diprediksi akan menampilkan label prediksi di atas citra, memberi gambaran kemampuan model secara intuitif.\n",
        "\n",
        "---"
      ],
      "metadata": {
        "id": "8cri_looi9nk"
      }
    },
    {
      "cell_type": "code",
      "source": [
        "X_new = X_test[:3]\n",
        "y_pred = np.argmax(model.predict(X_new), axis=-1)\n",
        "\n",
        "for i in range(3):\n",
        "    plt.imshow(X_new[i], cmap=\"binary\")\n",
        "    plt.title(f\"Predicted: {y_pred[i]}\")\n",
        "    plt.axis(\"off\")\n",
        "    plt.show()"
      ],
      "metadata": {
        "colab": {
          "base_uri": "https://localhost:8080/",
          "height": 1000
        },
        "id": "g1m8SkiDi-Y0",
        "outputId": "ef4b070d-2eb7-4aab-b621-168c58a06ac9"
      },
      "execution_count": 8,
      "outputs": [
        {
          "output_type": "stream",
          "name": "stdout",
          "text": [
            "\u001b[1m1/1\u001b[0m \u001b[32m━━━━━━━━━━━━━━━━━━━━\u001b[0m\u001b[37m\u001b[0m \u001b[1m0s\u001b[0m 75ms/step\n"
          ]
        },
        {
          "output_type": "display_data",
          "data": {
            "text/plain": [
              "<Figure size 640x480 with 1 Axes>"
            ],
            "image/png": "[encoded data removed]"
          },
          "metadata": {}
        },
        {
          "output_type": "display_data",
          "data": {
            "text/plain": [
              "<Figure size 640x480 with 1 Axes>"
            ],
            "image/png": "[encoded data removed]"
          },
          "metadata": {}
        },
        {
          "output_type": "display_data",
          "data": {
            "text/plain": [
              "<Figure size 640x480 with 1 Axes>"
            ],
            "image/png": "[encoded data removed]"
          },
          "metadata": {}
        }
      ]
    }
  ]
}