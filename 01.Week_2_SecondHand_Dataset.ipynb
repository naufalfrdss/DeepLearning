{
  "nbformat": 4,
  "nbformat_minor": 0,
  "metadata": {
    "colab": {
      "provenance": [],
      "authorship_tag": "ABX9TyNyPE0E+pciqvM3X5gsOhLp",
      "include_colab_link": true
    },
    "kernelspec": {
      "name": "python3",
      "display_name": "Python 3"
    },
    "language_info": {
      "name": "python"
    }
  },
  "cells": [
    {
      "cell_type": "markdown",
      "metadata": {
        "id": "view-in-github",
        "colab_type": "text"
      },
      "source": [
        "<a href=\"https://colab.research.google.com/github/naufalfrdss/DeepLearning/blob/main/01.Week_2_SecondHand_Dataset.ipynb\" target=\"_parent\"><img src=\"https://colab.research.google.com/assets/colab-badge.svg\" alt=\"Open In Colab\"/></a>"
      ]
    },
    {
      "cell_type": "markdown",
      "source": [
        "## **Install Pytorch dan Tensorflow**"
      ],
      "metadata": {
        "id": "q23HBq7Sc5qj"
      }
    },
    {
      "cell_type": "code",
      "execution_count": 174,
      "metadata": {
        "id": "PvXXUlyPcG-G"
      },
      "outputs": [],
      "source": [
        "# !pip install tensorflow\n",
        "# !pip install torch torchvision"
      ]
    },
    {
      "cell_type": "markdown",
      "source": [
        "## **Import Library**"
      ],
      "metadata": {
        "id": "F7jsIk5FdkUz"
      }
    },
    {
      "cell_type": "code",
      "source": [
        "import torch\n",
        "import torch.nn as nn\n",
        "import torch.optim as optim\n",
        "import pandas as pd\n",
        "import numpy as np\n",
        "from sklearn.model_selection import train_test_split\n",
        "from sklearn.preprocessing import StandardScaler, LabelEncoder\n",
        "from sklearn.metrics import r2_score, mean_squared_error\n",
        "import seaborn as sns\n",
        "import matplotlib.pyplot as plt\n",
        "import tensorflow as tf\n",
        "from tensorflow.keras.models import Sequential\n",
        "from tensorflow.keras.layers import Dense\n",
        "from tensorflow.keras.optimizers import SGD\n",
        "from sklearn.impute import SimpleImputer\n",
        "from tensorflow.keras.callbacks import EarlyStopping"
      ],
      "metadata": {
        "id": "p_tKOIuodoI7"
      },
      "execution_count": 175,
      "outputs": []
    },
    {
      "cell_type": "markdown",
      "source": [
        "## **DATA EXPLORING**"
      ],
      "metadata": {
        "id": "t8ki8yqzgEX3"
      }
    },
    {
      "cell_type": "code",
      "source": [
        "df = pd.read_csv('https://raw.githubusercontent.com/farrelrassya/teachingMLDL/refs/heads/main/02.%20Deep%20Learning/Dataset/secondhanddataset.csv')"
      ],
      "metadata": {
        "id": "vMnlFKj4eNYj"
      },
      "execution_count": 176,
      "outputs": []
    },
    {
      "cell_type": "code",
      "source": [
        "df.info()"
      ],
      "metadata": {
        "colab": {
          "base_uri": "https://localhost:8080/"
        },
        "id": "ivIuPZYZeZXG",
        "outputId": "8db9a177-6f3a-4ec7-a93b-efa0ee8d381d"
      },
      "execution_count": 177,
      "outputs": [
        {
          "output_type": "stream",
          "name": "stdout",
          "text": [
            "<class 'pandas.core.frame.DataFrame'>\n",
            "RangeIndex: 1000 entries, 0 to 999\n",
            "Data columns (total 12 columns):\n",
            " #   Column         Non-Null Count  Dtype  \n",
            "---  ------         --------------  -----  \n",
            " 0   v.id           1000 non-null   int64  \n",
            " 1   on road old    1000 non-null   int64  \n",
            " 2   on road now    1000 non-null   int64  \n",
            " 3   years          1000 non-null   int64  \n",
            " 4   km             1000 non-null   int64  \n",
            " 5   rating         1000 non-null   int64  \n",
            " 6   condition      1000 non-null   int64  \n",
            " 7   economy        1000 non-null   int64  \n",
            " 8   top speed      1000 non-null   int64  \n",
            " 9   hp             1000 non-null   int64  \n",
            " 10  torque         1000 non-null   int64  \n",
            " 11  current price  1000 non-null   float64\n",
            "dtypes: float64(1), int64(11)\n",
            "memory usage: 93.9 KB\n"
          ]
        }
      ]
    },
    {
      "cell_type": "code",
      "source": [
        "df.corr()"
      ],
      "metadata": {
        "colab": {
          "base_uri": "https://localhost:8080/",
          "height": 425
        },
        "id": "cwBRbphlosoC",
        "outputId": "b9ceec16-2670-433b-b98e-8ad1f6161854"
      },
      "execution_count": 178,
      "outputs": [
        {
          "output_type": "execute_result",
          "data": {
            "text/plain": [
              "                   v.id  on road old  on road now     years        km  \\\n",
              "v.id           1.000000    -0.029926    -0.030787 -0.034255  0.047400   \n",
              "on road old   -0.029926     1.000000     0.034113  0.007207  0.007488   \n",
              "on road now   -0.030787     0.034113     1.000000  0.004609 -0.053202   \n",
              "years         -0.034255     0.007207     0.004609  1.000000 -0.002089   \n",
              "km             0.047400     0.007488    -0.053202 -0.002089  1.000000   \n",
              "rating        -0.018263    -0.050717     0.028280  0.027285 -0.039930   \n",
              "condition     -0.038548    -0.015682    -0.005043  0.053579 -0.013640   \n",
              "economy        0.047137    -0.030097    -0.015880  0.050220  0.032680   \n",
              "top speed      0.001613    -0.023816     0.012699  0.025148  0.026450   \n",
              "hp            -0.006997    -0.049266    -0.012719 -0.003272 -0.052918   \n",
              "torque        -0.000632     0.008950     0.017955  0.028859  0.013566   \n",
              "current price -0.059460     0.233035     0.282793 -0.011854 -0.935924   \n",
              "\n",
              "                 rating  condition   economy  top speed        hp    torque  \\\n",
              "v.id          -0.018263  -0.038548  0.047137   0.001613 -0.006997 -0.000632   \n",
              "on road old   -0.050717  -0.015682 -0.030097  -0.023816 -0.049266  0.008950   \n",
              "on road now    0.028280  -0.005043 -0.015880   0.012699 -0.012719  0.017955   \n",
              "years          0.027285   0.053579  0.050220   0.025148 -0.003272  0.028859   \n",
              "km            -0.039930  -0.013640  0.032680   0.026450 -0.052918  0.013566   \n",
              "rating         1.000000   0.015943 -0.009757  -0.042222 -0.022623  0.004408   \n",
              "condition      0.015943   1.000000  0.058788   0.018472 -0.071552  0.047805   \n",
              "economy       -0.009757   0.058788  1.000000  -0.059402 -0.016782  0.041632   \n",
              "top speed     -0.042222   0.018472 -0.059402   1.000000  0.057827 -0.019697   \n",
              "hp            -0.022623  -0.071552 -0.016782   0.057827  1.000000 -0.013817   \n",
              "torque         0.004408   0.047805  0.041632  -0.019697 -0.013817  1.000000   \n",
              "current price  0.035038   0.110108 -0.034711  -0.027993  0.030238 -0.002290   \n",
              "\n",
              "               current price  \n",
              "v.id               -0.059460  \n",
              "on road old         0.233035  \n",
              "on road now         0.282793  \n",
              "years              -0.011854  \n",
              "km                 -0.935924  \n",
              "rating              0.035038  \n",
              "condition           0.110108  \n",
              "economy            -0.034711  \n",
              "top speed          -0.027993  \n",
              "hp                  0.030238  \n",
              "torque             -0.002290  \n",
              "current price       1.000000  "
            ],
            "text/html": [
              "\n",
              "  <div id=\"df-31e09be4-1899-4c6b-815b-229a16a88e39\" class=\"colab-df-container\">\n",
              "    <div>\n",
              "<style scoped>\n",
              "    .dataframe tbody tr th:only-of-type {\n",
              "        vertical-align: middle;\n",
              "    }\n",
              "\n",
              "    .dataframe tbody tr th {\n",
              "        vertical-align: top;\n",
              "    }\n",
              "\n",
              "    .dataframe thead th {\n",
              "        text-align: right;\n",
              "    }\n",
              "</style>\n",
              "<table border=\"1\" class=\"dataframe\">\n",
              "  <thead>\n",
              "    <tr style=\"text-align: right;\">\n",
              "      <th></th>\n",
              "      <th>v.id</th>\n",
              "      <th>on road old</th>\n",
              "      <th>on road now</th>\n",
              "      <th>years</th>\n",
              "      <th>km</th>\n",
              "      <th>rating</th>\n",
              "      <th>condition</th>\n",
              "      <th>economy</th>\n",
              "      <th>top speed</th>\n",
              "      <th>hp</th>\n",
              "      <th>torque</th>\n",
              "      <th>current price</th>\n",
              "    </tr>\n",
              "  </thead>\n",
              "  <tbody>\n",
              "    <tr>\n",
              "      <th>v.id</th>\n",
              "      <td>1.000000</td>\n",
              "      <td>-0.029926</td>\n",
              "      <td>-0.030787</td>\n",
              "      <td>-0.034255</td>\n",
              "      <td>0.047400</td>\n",
              "      <td>-0.018263</td>\n",
              "      <td>-0.038548</td>\n",
              "      <td>0.047137</td>\n",
              "      <td>0.001613</td>\n",
              "      <td>-0.006997</td>\n",
              "      <td>-0.000632</td>\n",
              "      <td>-0.059460</td>\n",
              "    </tr>\n",
              "    <tr>\n",
              "      <th>on road old</th>\n",
              "      <td>-0.029926</td>\n",
              "      <td>1.000000</td>\n",
              "      <td>0.034113</td>\n",
              "      <td>0.007207</td>\n",
              "      <td>0.007488</td>\n",
              "      <td>-0.050717</td>\n",
              "      <td>-0.015682</td>\n",
              "      <td>-0.030097</td>\n",
              "      <td>-0.023816</td>\n",
              "      <td>-0.049266</td>\n",
              "      <td>0.008950</td>\n",
              "      <td>0.233035</td>\n",
              "    </tr>\n",
              "    <tr>\n",
              "      <th>on road now</th>\n",
              "      <td>-0.030787</td>\n",
              "      <td>0.034113</td>\n",
              "      <td>1.000000</td>\n",
              "      <td>0.004609</td>\n",
              "      <td>-0.053202</td>\n",
              "      <td>0.028280</td>\n",
              "      <td>-0.005043</td>\n",
              "      <td>-0.015880</td>\n",
              "      <td>0.012699</td>\n",
              "      <td>-0.012719</td>\n",
              "      <td>0.017955</td>\n",
              "      <td>0.282793</td>\n",
              "    </tr>\n",
              "    <tr>\n",
              "      <th>years</th>\n",
              "      <td>-0.034255</td>\n",
              "      <td>0.007207</td>\n",
              "      <td>0.004609</td>\n",
              "      <td>1.000000</td>\n",
              "      <td>-0.002089</td>\n",
              "      <td>0.027285</td>\n",
              "      <td>0.053579</td>\n",
              "      <td>0.050220</td>\n",
              "      <td>0.025148</td>\n",
              "      <td>-0.003272</td>\n",
              "      <td>0.028859</td>\n",
              "      <td>-0.011854</td>\n",
              "    </tr>\n",
              "    <tr>\n",
              "      <th>km</th>\n",
              "      <td>0.047400</td>\n",
              "      <td>0.007488</td>\n",
              "      <td>-0.053202</td>\n",
              "      <td>-0.002089</td>\n",
              "      <td>1.000000</td>\n",
              "      <td>-0.039930</td>\n",
              "      <td>-0.013640</td>\n",
              "      <td>0.032680</td>\n",
              "      <td>0.026450</td>\n",
              "      <td>-0.052918</td>\n",
              "      <td>0.013566</td>\n",
              "      <td>-0.935924</td>\n",
              "    </tr>\n",
              "    <tr>\n",
              "      <th>rating</th>\n",
              "      <td>-0.018263</td>\n",
              "      <td>-0.050717</td>\n",
              "      <td>0.028280</td>\n",
              "      <td>0.027285</td>\n",
              "      <td>-0.039930</td>\n",
              "      <td>1.000000</td>\n",
              "      <td>0.015943</td>\n",
              "      <td>-0.009757</td>\n",
              "      <td>-0.042222</td>\n",
              "      <td>-0.022623</td>\n",
              "      <td>0.004408</td>\n",
              "      <td>0.035038</td>\n",
              "    </tr>\n",
              "    <tr>\n",
              "      <th>condition</th>\n",
              "      <td>-0.038548</td>\n",
              "      <td>-0.015682</td>\n",
              "      <td>-0.005043</td>\n",
              "      <td>0.053579</td>\n",
              "      <td>-0.013640</td>\n",
              "      <td>0.015943</td>\n",
              "      <td>1.000000</td>\n",
              "      <td>0.058788</td>\n",
              "      <td>0.018472</td>\n",
              "      <td>-0.071552</td>\n",
              "      <td>0.047805</td>\n",
              "      <td>0.110108</td>\n",
              "    </tr>\n",
              "    <tr>\n",
              "      <th>economy</th>\n",
              "      <td>0.047137</td>\n",
              "      <td>-0.030097</td>\n",
              "      <td>-0.015880</td>\n",
              "      <td>0.050220</td>\n",
              "      <td>0.032680</td>\n",
              "      <td>-0.009757</td>\n",
              "      <td>0.058788</td>\n",
              "      <td>1.000000</td>\n",
              "      <td>-0.059402</td>\n",
              "      <td>-0.016782</td>\n",
              "      <td>0.041632</td>\n",
              "      <td>-0.034711</td>\n",
              "    </tr>\n",
              "    <tr>\n",
              "      <th>top speed</th>\n",
              "      <td>0.001613</td>\n",
              "      <td>-0.023816</td>\n",
              "      <td>0.012699</td>\n",
              "      <td>0.025148</td>\n",
              "      <td>0.026450</td>\n",
              "      <td>-0.042222</td>\n",
              "      <td>0.018472</td>\n",
              "      <td>-0.059402</td>\n",
              "      <td>1.000000</td>\n",
              "      <td>0.057827</td>\n",
              "      <td>-0.019697</td>\n",
              "      <td>-0.027993</td>\n",
              "    </tr>\n",
              "    <tr>\n",
              "      <th>hp</th>\n",
              "      <td>-0.006997</td>\n",
              "      <td>-0.049266</td>\n",
              "      <td>-0.012719</td>\n",
              "      <td>-0.003272</td>\n",
              "      <td>-0.052918</td>\n",
              "      <td>-0.022623</td>\n",
              "      <td>-0.071552</td>\n",
              "      <td>-0.016782</td>\n",
              "      <td>0.057827</td>\n",
              "      <td>1.000000</td>\n",
              "      <td>-0.013817</td>\n",
              "      <td>0.030238</td>\n",
              "    </tr>\n",
              "    <tr>\n",
              "      <th>torque</th>\n",
              "      <td>-0.000632</td>\n",
              "      <td>0.008950</td>\n",
              "      <td>0.017955</td>\n",
              "      <td>0.028859</td>\n",
              "      <td>0.013566</td>\n",
              "      <td>0.004408</td>\n",
              "      <td>0.047805</td>\n",
              "      <td>0.041632</td>\n",
              "      <td>-0.019697</td>\n",
              "      <td>-0.013817</td>\n",
              "      <td>1.000000</td>\n",
              "      <td>-0.002290</td>\n",
              "    </tr>\n",
              "    <tr>\n",
              "      <th>current price</th>\n",
              "      <td>-0.059460</td>\n",
              "      <td>0.233035</td>\n",
              "      <td>0.282793</td>\n",
              "      <td>-0.011854</td>\n",
              "      <td>-0.935924</td>\n",
              "      <td>0.035038</td>\n",
              "      <td>0.110108</td>\n",
              "      <td>-0.034711</td>\n",
              "      <td>-0.027993</td>\n",
              "      <td>0.030238</td>\n",
              "      <td>-0.002290</td>\n",
              "      <td>1.000000</td>\n",
              "    </tr>\n",
              "  </tbody>\n",
              "</table>\n",
              "</div>\n",
              "    <div class=\"colab-df-buttons\">\n",
              "\n",
              "  <div class=\"colab-df-container\">\n",
              "    <button class=\"colab-df-convert\" onclick=\"convertToInteractive('df-31e09be4-1899-4c6b-815b-229a16a88e39')\"\n",
              "            title=\"Convert this dataframe to an interactive table.\"\n",
              "            style=\"display:none;\">\n",
              "\n",
              "  <svg xmlns=\"http://www.w3.org/2000/svg\" height=\"24px\" viewBox=\"0 -960 960 960\">\n",
              "    <path d=\"M120-120v-720h720v720H120Zm60-500h600v-160H180v160Zm220 220h160v-160H400v160Zm0 220h160v-160H400v160ZM180-400h160v-160H180v160Zm440 0h160v-160H620v160ZM180-180h160v-160H180v160Zm440 0h160v-160H620v160Z\"/>\n",
              "  </svg>\n",
              "    </button>\n",
              "\n",
              "  <style>\n",
              "    .colab-df-container {\n",
              "      display:flex;\n",
              "      gap: 12px;\n",
              "    }\n",
              "\n",
              "    .colab-df-convert {\n",
              "      background-color: #E8F0FE;\n",
              "      border: none;\n",
              "      border-radius: 50%;\n",
              "      cursor: pointer;\n",
              "      display: none;\n",
              "      fill: #1967D2;\n",
              "      height: 32px;\n",
              "      padding: 0 0 0 0;\n",
              "      width: 32px;\n",
              "    }\n",
              "\n",
              "    .colab-df-convert:hover {\n",
              "      background-color: #E2EBFA;\n",
              "      box-shadow: 0px 1px 2px rgba(60, 64, 67, 0.3), 0px 1px 3px 1px rgba(60, 64, 67, 0.15);\n",
              "      fill: #174EA6;\n",
              "    }\n",
              "\n",
              "    .colab-df-buttons div {\n",
              "      margin-bottom: 4px;\n",
              "    }\n",
              "\n",
              "    [theme=dark] .colab-df-convert {\n",
              "      background-color: #3B4455;\n",
              "      fill: #D2E3FC;\n",
              "    }\n",
              "\n",
              "    [theme=dark] .colab-df-convert:hover {\n",
              "      background-color: #434B5C;\n",
              "      box-shadow: 0px 1px 3px 1px rgba(0, 0, 0, 0.15);\n",
              "      filter: drop-shadow(0px 1px 2px rgba(0, 0, 0, 0.3));\n",
              "      fill: #FFFFFF;\n",
              "    }\n",
              "  </style>\n",
              "\n",
              "    <script>\n",
              "      const buttonEl =\n",
              "        document.querySelector('#df-31e09be4-1899-4c6b-815b-229a16a88e39 button.colab-df-convert');\n",
              "      buttonEl.style.display =\n",
              "        google.colab.kernel.accessAllowed ? 'block' : 'none';\n",
              "\n",
              "      async function convertToInteractive(key) {\n",
              "        const element = document.querySelector('#df-31e09be4-1899-4c6b-815b-229a16a88e39');\n",
              "        const dataTable =\n",
              "          await google.colab.kernel.invokeFunction('convertToInteractive',\n",
              "                                                    [key], {});\n",
              "        if (!dataTable) return;\n",
              "\n",
              "        const docLinkHtml = 'Like what you see? Visit the ' +\n",
              "          '<a target=\"_blank\" href=https://colab.research.google.com/notebooks/data_table.ipynb>data table notebook</a>'\n",
              "          + ' to learn more about interactive tables.';\n",
              "        element.innerHTML = '';\n",
              "        dataTable['output_type'] = 'display_data';\n",
              "        await google.colab.output.renderOutput(dataTable, element);\n",
              "        const docLink = document.createElement('div');\n",
              "        docLink.innerHTML = docLinkHtml;\n",
              "        element.appendChild(docLink);\n",
              "      }\n",
              "    </script>\n",
              "  </div>\n",
              "\n",
              "\n",
              "<div id=\"df-4103f99d-9a51-4d2d-93ad-87ee8e9c2dd6\">\n",
              "  <button class=\"colab-df-quickchart\" onclick=\"quickchart('df-4103f99d-9a51-4d2d-93ad-87ee8e9c2dd6')\"\n",
              "            title=\"Suggest charts\"\n",
              "            style=\"display:none;\">\n",
              "\n",
              "<svg xmlns=\"http://www.w3.org/2000/svg\" height=\"24px\"viewBox=\"0 0 24 24\"\n",
              "     width=\"24px\">\n",
              "    <g>\n",
              "        <path d=\"M19 3H5c-1.1 0-2 .9-2 2v14c0 1.1.9 2 2 2h14c1.1 0 2-.9 2-2V5c0-1.1-.9-2-2-2zM9 17H7v-7h2v7zm4 0h-2V7h2v10zm4 0h-2v-4h2v4z\"/>\n",
              "    </g>\n",
              "</svg>\n",
              "  </button>\n",
              "\n",
              "<style>\n",
              "  .colab-df-quickchart {\n",
              "      --bg-color: #E8F0FE;\n",
              "      --fill-color: #1967D2;\n",
              "      --hover-bg-color: #E2EBFA;\n",
              "      --hover-fill-color: #174EA6;\n",
              "      --disabled-fill-color: #AAA;\n",
              "      --disabled-bg-color: #DDD;\n",
              "  }\n",
              "\n",
              "  [theme=dark] .colab-df-quickchart {\n",
              "      --bg-color: #3B4455;\n",
              "      --fill-color: #D2E3FC;\n",
              "      --hover-bg-color: #434B5C;\n",
              "      --hover-fill-color: #FFFFFF;\n",
              "      --disabled-bg-color: #3B4455;\n",
              "      --disabled-fill-color: #666;\n",
              "  }\n",
              "\n",
              "  .colab-df-quickchart {\n",
              "    background-color: var(--bg-color);\n",
              "    border: none;\n",
              "    border-radius: 50%;\n",
              "    cursor: pointer;\n",
              "    display: none;\n",
              "    fill: var(--fill-color);\n",
              "    height: 32px;\n",
              "    padding: 0;\n",
              "    width: 32px;\n",
              "  }\n",
              "\n",
              "  .colab-df-quickchart:hover {\n",
              "    background-color: var(--hover-bg-color);\n",
              "    box-shadow: 0 1px 2px rgba(60, 64, 67, 0.3), 0 1px 3px 1px rgba(60, 64, 67, 0.15);\n",
              "    fill: var(--button-hover-fill-color);\n",
              "  }\n",
              "\n",
              "  .colab-df-quickchart-complete:disabled,\n",
              "  .colab-df-quickchart-complete:disabled:hover {\n",
              "    background-color: var(--disabled-bg-color);\n",
              "    fill: var(--disabled-fill-color);\n",
              "    box-shadow: none;\n",
              "  }\n",
              "\n",
              "  .colab-df-spinner {\n",
              "    border: 2px solid var(--fill-color);\n",
              "    border-color: transparent;\n",
              "    border-bottom-color: var(--fill-color);\n",
              "    animation:\n",
              "      spin 1s steps(1) infinite;\n",
              "  }\n",
              "\n",
              "  @keyframes spin {\n",
              "    0% {\n",
              "      border-color: transparent;\n",
              "      border-bottom-color: var(--fill-color);\n",
              "      border-left-color: var(--fill-color);\n",
              "    }\n",
              "    20% {\n",
              "      border-color: transparent;\n",
              "      border-left-color: var(--fill-color);\n",
              "      border-top-color: var(--fill-color);\n",
              "    }\n",
              "    30% {\n",
              "      border-color: transparent;\n",
              "      border-left-color: var(--fill-color);\n",
              "      border-top-color: var(--fill-color);\n",
              "      border-right-color: var(--fill-color);\n",
              "    }\n",
              "    40% {\n",
              "      border-color: transparent;\n",
              "      border-right-color: var(--fill-color);\n",
              "      border-top-color: var(--fill-color);\n",
              "    }\n",
              "    60% {\n",
              "      border-color: transparent;\n",
              "      border-right-color: var(--fill-color);\n",
              "    }\n",
              "    80% {\n",
              "      border-color: transparent;\n",
              "      border-right-color: var(--fill-color);\n",
              "      border-bottom-color: var(--fill-color);\n",
              "    }\n",
              "    90% {\n",
              "      border-color: transparent;\n",
              "      border-bottom-color: var(--fill-color);\n",
              "    }\n",
              "  }\n",
              "</style>\n",
              "\n",
              "  <script>\n",
              "    async function quickchart(key) {\n",
              "      const quickchartButtonEl =\n",
              "        document.querySelector('#' + key + ' button');\n",
              "      quickchartButtonEl.disabled = true;  // To prevent multiple clicks.\n",
              "      quickchartButtonEl.classList.add('colab-df-spinner');\n",
              "      try {\n",
              "        const charts = await google.colab.kernel.invokeFunction(\n",
              "            'suggestCharts', [key], {});\n",
              "      } catch (error) {\n",
              "        console.error('Error during call to suggestCharts:', error);\n",
              "      }\n",
              "      quickchartButtonEl.classList.remove('colab-df-spinner');\n",
              "      quickchartButtonEl.classList.add('colab-df-quickchart-complete');\n",
              "    }\n",
              "    (() => {\n",
              "      let quickchartButtonEl =\n",
              "        document.querySelector('#df-4103f99d-9a51-4d2d-93ad-87ee8e9c2dd6 button');\n",
              "      quickchartButtonEl.style.display =\n",
              "        google.colab.kernel.accessAllowed ? 'block' : 'none';\n",
              "    })();\n",
              "  </script>\n",
              "</div>\n",
              "\n",
              "    </div>\n",
              "  </div>\n"
            ],
            "application/vnd.google.colaboratory.intrinsic+json": {
              "type": "dataframe",
              "summary": "{\n  \"name\": \"df\",\n  \"rows\": 12,\n  \"fields\": [\n    {\n      \"column\": \"v.id\",\n      \"properties\": {\n        \"dtype\": \"number\",\n        \"std\": 0.2936846211992769,\n        \"min\": -0.05946040152177111,\n        \"max\": 1.0,\n        \"num_unique_values\": 12,\n        \"samples\": [\n          -0.000632397397874618,\n          -0.0069972367920032395,\n          1.0\n        ],\n        \"semantic_type\": \"\",\n        \"description\": \"\"\n      }\n    },\n    {\n      \"column\": \"on road old\",\n      \"properties\": {\n        \"dtype\": \"number\",\n        \"std\": 0.29603874992559676,\n        \"min\": -0.05071737421052721,\n        \"max\": 1.0,\n        \"num_unique_values\": 12,\n        \"samples\": [\n          0.008950286214530563,\n          -0.04926631000081566,\n          -0.029926419272230734\n        ],\n        \"semantic_type\": \"\",\n        \"description\": \"\"\n      }\n    },\n    {\n      \"column\": \"on road now\",\n      \"properties\": {\n        \"dtype\": \"number\",\n        \"std\": 0.29445879023745325,\n        \"min\": -0.05320228635416443,\n        \"max\": 1.0,\n        \"num_unique_values\": 12,\n        \"samples\": [\n          0.01795535789393459,\n          -0.01271948875977319,\n          -0.030787305913350726\n        ],\n        \"semantic_type\": \"\",\n        \"description\": \"\"\n      }\n    },\n    {\n      \"column\": \"years\",\n      \"properties\": {\n        \"dtype\": \"number\",\n        \"std\": 0.2859862300931325,\n        \"min\": -0.034254552719367726,\n        \"max\": 1.0,\n        \"num_unique_values\": 12,\n        \"samples\": [\n          0.028858987787555287,\n          -0.003272486581541867,\n          -0.034254552719367726\n        ],\n        \"semantic_type\": \"\",\n        \"description\": \"\"\n      }\n    },\n    {\n      \"column\": \"km\",\n      \"properties\": {\n        \"dtype\": \"number\",\n        \"std\": 0.4142408037936193,\n        \"min\": -0.9359242041160892,\n        \"max\": 1.0,\n        \"num_unique_values\": 12,\n        \"samples\": [\n          0.013566127640468812,\n          -0.052918426904554984,\n          0.04740021333476269\n        ],\n        \"semantic_type\": \"\",\n        \"description\": \"\"\n      }\n    },\n    {\n      \"column\": \"rating\",\n      \"properties\": {\n        \"dtype\": \"number\",\n        \"std\": 0.29205488053263895,\n        \"min\": -0.05071737421052721,\n        \"max\": 1.0,\n        \"num_unique_values\": 12,\n        \"samples\": [\n          0.004407645728143021,\n          -0.022622541730489616,\n          -0.01826320303247657\n        ],\n        \"semantic_type\": \"\",\n        \"description\": \"\"\n      }\n    },\n    {\n      \"column\": \"condition\",\n      \"properties\": {\n        \"dtype\": \"number\",\n        \"std\": 0.28860423093749504,\n        \"min\": -0.07155213015780369,\n        \"max\": 1.0,\n        \"num_unique_values\": 12,\n        \"samples\": [\n          0.047805347123975536,\n          -0.07155213015780369,\n          -0.03854761929919865\n        ],\n        \"semantic_type\": \"\",\n        \"description\": \"\"\n      }\n    },\n    {\n      \"column\": \"economy\",\n      \"properties\": {\n        \"dtype\": \"number\",\n        \"std\": 0.28966414696360765,\n        \"min\": -0.059401718396971635,\n        \"max\": 1.0,\n        \"num_unique_values\": 12,\n        \"samples\": [\n          0.041632451425651,\n          -0.016782126312520705,\n          0.04713697797039179\n        ],\n        \"semantic_type\": \"\",\n        \"description\": \"\"\n      }\n    },\n    {\n      \"column\": \"top speed\",\n      \"properties\": {\n        \"dtype\": \"number\",\n        \"std\": 0.2913871690407928,\n        \"min\": -0.059401718396971635,\n        \"max\": 1.0,\n        \"num_unique_values\": 12,\n        \"samples\": [\n          -0.01969710943891903,\n          0.05782683399114979,\n          0.0016134834068372466\n        ],\n        \"semantic_type\": \"\",\n        \"description\": \"\"\n      }\n    },\n    {\n      \"column\": \"hp\",\n      \"properties\": {\n        \"dtype\": \"number\",\n        \"std\": 0.29499994497518867,\n        \"min\": -0.07155213015780369,\n        \"max\": 1.0,\n        \"num_unique_values\": 12,\n        \"samples\": [\n          -0.013817344979463377,\n          1.0,\n          -0.0069972367920032395\n        ],\n        \"semantic_type\": \"\",\n        \"description\": \"\"\n      }\n    },\n    {\n      \"column\": \"torque\",\n      \"properties\": {\n        \"dtype\": \"number\",\n        \"std\": 0.28607799385862037,\n        \"min\": -0.01969710943891903,\n        \"max\": 1.0,\n        \"num_unique_values\": 12,\n        \"samples\": [\n          1.0,\n          -0.013817344979463377,\n          -0.000632397397874618\n        ],\n        \"semantic_type\": \"\",\n        \"description\": \"\"\n      }\n    },\n    {\n      \"column\": \"current price\",\n      \"properties\": {\n        \"dtype\": \"number\",\n        \"std\": 0.42621363717554916,\n        \"min\": -0.9359242041160892,\n        \"max\": 1.0,\n        \"num_unique_values\": 12,\n        \"samples\": [\n          -0.0022898578400442175,\n          0.030238349503761103,\n          -0.05946040152177111\n        ],\n        \"semantic_type\": \"\",\n        \"description\": \"\"\n      }\n    }\n  ]\n}"
            }
          },
          "metadata": {},
          "execution_count": 178
        }
      ]
    },
    {
      "cell_type": "code",
      "source": [
        "df.duplicated().sum()"
      ],
      "metadata": {
        "colab": {
          "base_uri": "https://localhost:8080/"
        },
        "id": "9WM9ANCVfrAD",
        "outputId": "b18e19c7-f637-4cb6-e6a4-0e300da03d1d"
      },
      "execution_count": 179,
      "outputs": [
        {
          "output_type": "execute_result",
          "data": {
            "text/plain": [
              "0"
            ]
          },
          "metadata": {},
          "execution_count": 179
        }
      ]
    },
    {
      "cell_type": "code",
      "source": [
        "df.isna().sum()"
      ],
      "metadata": {
        "colab": {
          "base_uri": "https://localhost:8080/",
          "height": 460
        },
        "id": "4F_QkACWf5Pf",
        "outputId": "ef7de300-f33d-484d-db83-2f9114580591"
      },
      "execution_count": 180,
      "outputs": [
        {
          "output_type": "execute_result",
          "data": {
            "text/plain": [
              "v.id             0\n",
              "on road old      0\n",
              "on road now      0\n",
              "years            0\n",
              "km               0\n",
              "rating           0\n",
              "condition        0\n",
              "economy          0\n",
              "top speed        0\n",
              "hp               0\n",
              "torque           0\n",
              "current price    0\n",
              "dtype: int64"
            ],
            "text/html": [
              "<div>\n",
              "<style scoped>\n",
              "    .dataframe tbody tr th:only-of-type {\n",
              "        vertical-align: middle;\n",
              "    }\n",
              "\n",
              "    .dataframe tbody tr th {\n",
              "        vertical-align: top;\n",
              "    }\n",
              "\n",
              "    .dataframe thead th {\n",
              "        text-align: right;\n",
              "    }\n",
              "</style>\n",
              "<table border=\"1\" class=\"dataframe\">\n",
              "  <thead>\n",
              "    <tr style=\"text-align: right;\">\n",
              "      <th></th>\n",
              "      <th>0</th>\n",
              "    </tr>\n",
              "  </thead>\n",
              "  <tbody>\n",
              "    <tr>\n",
              "      <th>v.id</th>\n",
              "      <td>0</td>\n",
              "    </tr>\n",
              "    <tr>\n",
              "      <th>on road old</th>\n",
              "      <td>0</td>\n",
              "    </tr>\n",
              "    <tr>\n",
              "      <th>on road now</th>\n",
              "      <td>0</td>\n",
              "    </tr>\n",
              "    <tr>\n",
              "      <th>years</th>\n",
              "      <td>0</td>\n",
              "    </tr>\n",
              "    <tr>\n",
              "      <th>km</th>\n",
              "      <td>0</td>\n",
              "    </tr>\n",
              "    <tr>\n",
              "      <th>rating</th>\n",
              "      <td>0</td>\n",
              "    </tr>\n",
              "    <tr>\n",
              "      <th>condition</th>\n",
              "      <td>0</td>\n",
              "    </tr>\n",
              "    <tr>\n",
              "      <th>economy</th>\n",
              "      <td>0</td>\n",
              "    </tr>\n",
              "    <tr>\n",
              "      <th>top speed</th>\n",
              "      <td>0</td>\n",
              "    </tr>\n",
              "    <tr>\n",
              "      <th>hp</th>\n",
              "      <td>0</td>\n",
              "    </tr>\n",
              "    <tr>\n",
              "      <th>torque</th>\n",
              "      <td>0</td>\n",
              "    </tr>\n",
              "    <tr>\n",
              "      <th>current price</th>\n",
              "      <td>0</td>\n",
              "    </tr>\n",
              "  </tbody>\n",
              "</table>\n",
              "</div><br><label><b>dtype:</b> int64</label>"
            ]
          },
          "metadata": {},
          "execution_count": 180
        }
      ]
    },
    {
      "cell_type": "code",
      "source": [
        "df.dropna(inplace=True)"
      ],
      "metadata": {
        "id": "1aEF7b11sDku"
      },
      "execution_count": 181,
      "outputs": []
    },
    {
      "cell_type": "code",
      "source": [
        "df.info()"
      ],
      "metadata": {
        "colab": {
          "base_uri": "https://localhost:8080/"
        },
        "id": "1Bupt3UzA88h",
        "outputId": "b580225c-5efc-4bd8-a395-7054713c2672"
      },
      "execution_count": 182,
      "outputs": [
        {
          "output_type": "stream",
          "name": "stdout",
          "text": [
            "<class 'pandas.core.frame.DataFrame'>\n",
            "RangeIndex: 1000 entries, 0 to 999\n",
            "Data columns (total 12 columns):\n",
            " #   Column         Non-Null Count  Dtype  \n",
            "---  ------         --------------  -----  \n",
            " 0   v.id           1000 non-null   int64  \n",
            " 1   on road old    1000 non-null   int64  \n",
            " 2   on road now    1000 non-null   int64  \n",
            " 3   years          1000 non-null   int64  \n",
            " 4   km             1000 non-null   int64  \n",
            " 5   rating         1000 non-null   int64  \n",
            " 6   condition      1000 non-null   int64  \n",
            " 7   economy        1000 non-null   int64  \n",
            " 8   top speed      1000 non-null   int64  \n",
            " 9   hp             1000 non-null   int64  \n",
            " 10  torque         1000 non-null   int64  \n",
            " 11  current price  1000 non-null   float64\n",
            "dtypes: float64(1), int64(11)\n",
            "memory usage: 93.9 KB\n"
          ]
        }
      ]
    },
    {
      "cell_type": "code",
      "source": [
        "plt.figure(figsize=(10, 10))\n",
        "sns.boxplot(data=df)\n",
        "plt.show()"
      ],
      "metadata": {
        "colab": {
          "base_uri": "https://localhost:8080/",
          "height": 830
        },
        "id": "lstM2eaNgdIh",
        "outputId": "2232455c-63a9-4234-c9b1-7bf697a22982"
      },
      "execution_count": 183,
      "outputs": [
        {
          "output_type": "display_data",
          "data": {
            "text/plain": [
              "<Figure size 1000x1000 with 1 Axes>"
            ],
            "image/png": "[encoded data removed]"
          },
          "metadata": {}
        }
      ]
    },
    {
      "cell_type": "markdown",
      "source": [
        "## **Siapkan Data**"
      ],
      "metadata": {
        "id": "mZkLHbU-BieV"
      }
    },
    {
      "cell_type": "code",
      "source": [
        "X = df.drop('current price', axis=1)\n",
        "y = df['current price']"
      ],
      "metadata": {
        "id": "ttoYI_T8g4ep"
      },
      "execution_count": 184,
      "outputs": []
    },
    {
      "cell_type": "code",
      "source": [
        "X_train, X_test, y_train, y_test = train_test_split(X, y, test_size=0.2, random_state=42)"
      ],
      "metadata": {
        "id": "WsoBX88Rhsv2"
      },
      "execution_count": 185,
      "outputs": []
    },
    {
      "cell_type": "code",
      "source": [
        "scaler = StandardScaler()\n",
        "X_train = scaler.fit_transform(X_train)\n",
        "X_test = scaler.transform(X_test)"
      ],
      "metadata": {
        "id": "kU8vCCVRh0NG"
      },
      "execution_count": 186,
      "outputs": []
    },
    {
      "cell_type": "code",
      "source": [
        "y_scaler = StandardScaler()\n",
        "y_train = y_train.to_numpy()\n",
        "y_test = y_test.to_numpy()\n",
        "y_train = y_scaler.fit_transform(y_train.reshape(-1, 1)).ravel()\n",
        "y_test = y_scaler.transform(y_test.reshape(-1, 1)).ravel()"
      ],
      "metadata": {
        "id": "qiUFZzzGh4xD"
      },
      "execution_count": 187,
      "outputs": []
    },
    {
      "cell_type": "code",
      "source": [
        "X_train.shape"
      ],
      "metadata": {
        "colab": {
          "base_uri": "https://localhost:8080/"
        },
        "id": "7VM3yrDUih9x",
        "outputId": "9fdbe070-942d-4e88-9a84-7d908cdba6f5"
      },
      "execution_count": 188,
      "outputs": [
        {
          "output_type": "execute_result",
          "data": {
            "text/plain": [
              "(800, 11)"
            ]
          },
          "metadata": {},
          "execution_count": 188
        }
      ]
    },
    {
      "cell_type": "code",
      "source": [
        "imputer = SimpleImputer(strategy='mean')\n",
        "X_train = imputer.fit_transform(X_train)"
      ],
      "metadata": {
        "id": "8BeqcX0hpsqs"
      },
      "execution_count": 189,
      "outputs": []
    },
    {
      "cell_type": "code",
      "source": [
        "inputs = tf.keras.Input(shape=(X_train.shape[1],))\n",
        "x = tf.keras.layers.Dense(32, activation='relu')(inputs)\n",
        "x = tf.keras.layers.Dense(16, activation='relu')(x)\n",
        "outputs = tf.keras.layers.Dense(1, activation='linear')(x)"
      ],
      "metadata": {
        "id": "m43CnEjeiH9f"
      },
      "execution_count": 190,
      "outputs": []
    },
    {
      "cell_type": "markdown",
      "source": [
        "## **Tensorflow Model**"
      ],
      "metadata": {
        "id": "uSw7lbI7t1u8"
      }
    },
    {
      "cell_type": "code",
      "source": [
        "model = tf.keras.Model(inputs=inputs, outputs=outputs)"
      ],
      "metadata": {
        "id": "nE4lAkRvjb2J"
      },
      "execution_count": 191,
      "outputs": []
    },
    {
      "cell_type": "code",
      "source": [
        "early_stopping = EarlyStopping(monitor='val_loss', patience=10, restore_best_weights=True)\n",
        "model.compile(\n",
        "    optimizer = 'adam',\n",
        "    loss='mse'\n",
        ")\n",
        "model.fit(X_train, y_train, epochs=100, batch_size=32, validation_split= 0.15, callbacks=[early_stopping])"
      ],
      "metadata": {
        "colab": {
          "base_uri": "https://localhost:8080/"
        },
        "id": "2z9feMA8jiTL",
        "outputId": "1d32e486-ba98-4256-fd75-e498d27afdf9"
      },
      "execution_count": 192,
      "outputs": [
        {
          "output_type": "stream",
          "name": "stdout",
          "text": [
            "Epoch 1/100\n",
            "\u001b[1m22/22\u001b[0m \u001b[32m━━━━━━━━━━━━━━━━━━━━\u001b[0m\u001b[37m\u001b[0m \u001b[1m2s\u001b[0m 19ms/step - loss: 1.2630 - val_loss: 1.1418\n",
            "Epoch 2/100\n",
            "\u001b[1m22/22\u001b[0m \u001b[32m━━━━━━━━━━━━━━━━━━━━\u001b[0m\u001b[37m\u001b[0m \u001b[1m0s\u001b[0m 7ms/step - loss: 0.8352 - val_loss: 0.8589\n",
            "Epoch 3/100\n",
            "\u001b[1m22/22\u001b[0m \u001b[32m━━━━━━━━━━━━━━━━━━━━\u001b[0m\u001b[37m\u001b[0m \u001b[1m0s\u001b[0m 9ms/step - loss: 0.6756 - val_loss: 0.6259\n",
            "Epoch 4/100\n",
            "\u001b[1m22/22\u001b[0m \u001b[32m━━━━━━━━━━━━━━━━━━━━\u001b[0m\u001b[37m\u001b[0m \u001b[1m0s\u001b[0m 8ms/step - loss: 0.4448 - val_loss: 0.4222\n",
            "Epoch 5/100\n",
            "\u001b[1m22/22\u001b[0m \u001b[32m━━━━━━━━━━━━━━━━━━━━\u001b[0m\u001b[37m\u001b[0m \u001b[1m0s\u001b[0m 9ms/step - loss: 0.3007 - val_loss: 0.2667\n",
            "Epoch 6/100\n",
            "\u001b[1m22/22\u001b[0m \u001b[32m━━━━━━━━━━━━━━━━━━━━\u001b[0m\u001b[37m\u001b[0m \u001b[1m0s\u001b[0m 5ms/step - loss: 0.1751 - val_loss: 0.1760\n",
            "Epoch 7/100\n",
            "\u001b[1m22/22\u001b[0m \u001b[32m━━━━━━━━━━━━━━━━━━━━\u001b[0m\u001b[37m\u001b[0m \u001b[1m0s\u001b[0m 5ms/step - loss: 0.1313 - val_loss: 0.1316\n",
            "Epoch 8/100\n",
            "\u001b[1m22/22\u001b[0m \u001b[32m━━━━━━━━━━━━━━━━━━━━\u001b[0m\u001b[37m\u001b[0m \u001b[1m0s\u001b[0m 7ms/step - loss: 0.0978 - val_loss: 0.1098\n",
            "Epoch 9/100\n",
            "\u001b[1m22/22\u001b[0m \u001b[32m━━━━━━━━━━━━━━━━━━━━\u001b[0m\u001b[37m\u001b[0m \u001b[1m0s\u001b[0m 5ms/step - loss: 0.0766 - val_loss: 0.0924\n",
            "Epoch 10/100\n",
            "\u001b[1m22/22\u001b[0m \u001b[32m━━━━━━━━━━━━━━━━━━━━\u001b[0m\u001b[37m\u001b[0m \u001b[1m0s\u001b[0m 5ms/step - loss: 0.0644 - val_loss: 0.0807\n",
            "Epoch 11/100\n",
            "\u001b[1m22/22\u001b[0m \u001b[32m━━━━━━━━━━━━━━━━━━━━\u001b[0m\u001b[37m\u001b[0m \u001b[1m0s\u001b[0m 5ms/step - loss: 0.0524 - val_loss: 0.0698\n",
            "Epoch 12/100\n",
            "\u001b[1m22/22\u001b[0m \u001b[32m━━━━━━━━━━━━━━━━━━━━\u001b[0m\u001b[37m\u001b[0m \u001b[1m0s\u001b[0m 5ms/step - loss: 0.0462 - val_loss: 0.0597\n",
            "Epoch 13/100\n",
            "\u001b[1m22/22\u001b[0m \u001b[32m━━━━━━━━━━━━━━━━━━━━\u001b[0m\u001b[37m\u001b[0m \u001b[1m0s\u001b[0m 5ms/step - loss: 0.0409 - val_loss: 0.0526\n",
            "Epoch 14/100\n",
            "\u001b[1m22/22\u001b[0m \u001b[32m━━━━━━━━━━━━━━━━━━━━\u001b[0m\u001b[37m\u001b[0m \u001b[1m0s\u001b[0m 5ms/step - loss: 0.0356 - val_loss: 0.0462\n",
            "Epoch 15/100\n",
            "\u001b[1m22/22\u001b[0m \u001b[32m━━━━━━━━━━━━━━━━━━━━\u001b[0m\u001b[37m\u001b[0m \u001b[1m0s\u001b[0m 6ms/step - loss: 0.0333 - val_loss: 0.0401\n",
            "Epoch 16/100\n",
            "\u001b[1m22/22\u001b[0m \u001b[32m━━━━━━━━━━━━━━━━━━━━\u001b[0m\u001b[37m\u001b[0m \u001b[1m0s\u001b[0m 5ms/step - loss: 0.0287 - val_loss: 0.0369\n",
            "Epoch 17/100\n",
            "\u001b[1m22/22\u001b[0m \u001b[32m━━━━━━━━━━━━━━━━━━━━\u001b[0m\u001b[37m\u001b[0m \u001b[1m0s\u001b[0m 5ms/step - loss: 0.0241 - val_loss: 0.0323\n",
            "Epoch 18/100\n",
            "\u001b[1m22/22\u001b[0m \u001b[32m━━━━━━━━━━━━━━━━━━━━\u001b[0m\u001b[37m\u001b[0m \u001b[1m0s\u001b[0m 5ms/step - loss: 0.0204 - val_loss: 0.0298\n",
            "Epoch 19/100\n",
            "\u001b[1m22/22\u001b[0m \u001b[32m━━━━━━━━━━━━━━━━━━━━\u001b[0m\u001b[37m\u001b[0m \u001b[1m0s\u001b[0m 7ms/step - loss: 0.0201 - val_loss: 0.0274\n",
            "Epoch 20/100\n",
            "\u001b[1m22/22\u001b[0m \u001b[32m━━━━━━━━━━━━━━━━━━━━\u001b[0m\u001b[37m\u001b[0m \u001b[1m0s\u001b[0m 5ms/step - loss: 0.0192 - val_loss: 0.0257\n",
            "Epoch 21/100\n",
            "\u001b[1m22/22\u001b[0m \u001b[32m━━━━━━━━━━━━━━━━━━━━\u001b[0m\u001b[37m\u001b[0m \u001b[1m0s\u001b[0m 5ms/step - loss: 0.0159 - val_loss: 0.0237\n",
            "Epoch 22/100\n",
            "\u001b[1m22/22\u001b[0m \u001b[32m━━━━━━━━━━━━━━━━━━━━\u001b[0m\u001b[37m\u001b[0m \u001b[1m0s\u001b[0m 5ms/step - loss: 0.0142 - val_loss: 0.0229\n",
            "Epoch 23/100\n",
            "\u001b[1m22/22\u001b[0m \u001b[32m━━━━━━━━━━━━━━━━━━━━\u001b[0m\u001b[37m\u001b[0m \u001b[1m0s\u001b[0m 7ms/step - loss: 0.0142 - val_loss: 0.0219\n",
            "Epoch 24/100\n",
            "\u001b[1m22/22\u001b[0m \u001b[32m━━━━━━━━━━━━━━━━━━━━\u001b[0m\u001b[37m\u001b[0m \u001b[1m0s\u001b[0m 5ms/step - loss: 0.0134 - val_loss: 0.0211\n",
            "Epoch 25/100\n",
            "\u001b[1m22/22\u001b[0m \u001b[32m━━━━━━━━━━━━━━━━━━━━\u001b[0m\u001b[37m\u001b[0m \u001b[1m0s\u001b[0m 5ms/step - loss: 0.0127 - val_loss: 0.0202\n",
            "Epoch 26/100\n",
            "\u001b[1m22/22\u001b[0m \u001b[32m━━━━━━━━━━━━━━━━━━━━\u001b[0m\u001b[37m\u001b[0m \u001b[1m0s\u001b[0m 5ms/step - loss: 0.0117 - val_loss: 0.0199\n",
            "Epoch 27/100\n",
            "\u001b[1m22/22\u001b[0m \u001b[32m━━━━━━━━━━━━━━━━━━━━\u001b[0m\u001b[37m\u001b[0m \u001b[1m0s\u001b[0m 5ms/step - loss: 0.0113 - val_loss: 0.0190\n",
            "Epoch 28/100\n",
            "\u001b[1m22/22\u001b[0m \u001b[32m━━━━━━━━━━━━━━━━━━━━\u001b[0m\u001b[37m\u001b[0m \u001b[1m0s\u001b[0m 5ms/step - loss: 0.0118 - val_loss: 0.0195\n",
            "Epoch 29/100\n",
            "\u001b[1m22/22\u001b[0m \u001b[32m━━━━━━━━━━━━━━━━━━━━\u001b[0m\u001b[37m\u001b[0m \u001b[1m0s\u001b[0m 5ms/step - loss: 0.0112 - val_loss: 0.0185\n",
            "Epoch 30/100\n",
            "\u001b[1m22/22\u001b[0m \u001b[32m━━━━━━━━━━━━━━━━━━━━\u001b[0m\u001b[37m\u001b[0m \u001b[1m0s\u001b[0m 5ms/step - loss: 0.0105 - val_loss: 0.0178\n",
            "Epoch 31/100\n",
            "\u001b[1m22/22\u001b[0m \u001b[32m━━━━━━━━━━━━━━━━━━━━\u001b[0m\u001b[37m\u001b[0m \u001b[1m0s\u001b[0m 5ms/step - loss: 0.0095 - val_loss: 0.0175\n",
            "Epoch 32/100\n",
            "\u001b[1m22/22\u001b[0m \u001b[32m━━━━━━━━━━━━━━━━━━━━\u001b[0m\u001b[37m\u001b[0m \u001b[1m0s\u001b[0m 5ms/step - loss: 0.0100 - val_loss: 0.0172\n",
            "Epoch 33/100\n",
            "\u001b[1m22/22\u001b[0m \u001b[32m━━━━━━━━━━━━━━━━━━━━\u001b[0m\u001b[37m\u001b[0m \u001b[1m0s\u001b[0m 5ms/step - loss: 0.0094 - val_loss: 0.0168\n",
            "Epoch 34/100\n",
            "\u001b[1m22/22\u001b[0m \u001b[32m━━━━━━━━━━━━━━━━━━━━\u001b[0m\u001b[37m\u001b[0m \u001b[1m0s\u001b[0m 5ms/step - loss: 0.0091 - val_loss: 0.0170\n",
            "Epoch 35/100\n",
            "\u001b[1m22/22\u001b[0m \u001b[32m━━━━━━━━━━━━━━━━━━━━\u001b[0m\u001b[37m\u001b[0m \u001b[1m0s\u001b[0m 5ms/step - loss: 0.0086 - val_loss: 0.0165\n",
            "Epoch 36/100\n",
            "\u001b[1m22/22\u001b[0m \u001b[32m━━━━━━━━━━━━━━━━━━━━\u001b[0m\u001b[37m\u001b[0m \u001b[1m0s\u001b[0m 5ms/step - loss: 0.0081 - val_loss: 0.0157\n",
            "Epoch 37/100\n",
            "\u001b[1m22/22\u001b[0m \u001b[32m━━━━━━━━━━━━━━━━━━━━\u001b[0m\u001b[37m\u001b[0m \u001b[1m0s\u001b[0m 5ms/step - loss: 0.0085 - val_loss: 0.0155\n",
            "Epoch 38/100\n",
            "\u001b[1m22/22\u001b[0m \u001b[32m━━━━━━━━━━━━━━━━━━━━\u001b[0m\u001b[37m\u001b[0m \u001b[1m0s\u001b[0m 5ms/step - loss: 0.0070 - val_loss: 0.0157\n",
            "Epoch 39/100\n",
            "\u001b[1m22/22\u001b[0m \u001b[32m━━━━━━━━━━━━━━━━━━━━\u001b[0m\u001b[37m\u001b[0m \u001b[1m0s\u001b[0m 5ms/step - loss: 0.0082 - val_loss: 0.0150\n",
            "Epoch 40/100\n",
            "\u001b[1m22/22\u001b[0m \u001b[32m━━━━━━━━━━━━━━━━━━━━\u001b[0m\u001b[37m\u001b[0m \u001b[1m0s\u001b[0m 7ms/step - loss: 0.0074 - val_loss: 0.0146\n",
            "Epoch 41/100\n",
            "\u001b[1m22/22\u001b[0m \u001b[32m━━━━━━━━━━━━━━━━━━━━\u001b[0m\u001b[37m\u001b[0m \u001b[1m0s\u001b[0m 5ms/step - loss: 0.0071 - val_loss: 0.0148\n",
            "Epoch 42/100\n",
            "\u001b[1m22/22\u001b[0m \u001b[32m━━━━━━━━━━━━━━━━━━━━\u001b[0m\u001b[37m\u001b[0m \u001b[1m0s\u001b[0m 5ms/step - loss: 0.0068 - val_loss: 0.0145\n",
            "Epoch 43/100\n",
            "\u001b[1m22/22\u001b[0m \u001b[32m━━━━━━━━━━━━━━━━━━━━\u001b[0m\u001b[37m\u001b[0m \u001b[1m0s\u001b[0m 6ms/step - loss: 0.0064 - val_loss: 0.0147\n",
            "Epoch 44/100\n",
            "\u001b[1m22/22\u001b[0m \u001b[32m━━━━━━━━━━━━━━━━━━━━\u001b[0m\u001b[37m\u001b[0m \u001b[1m0s\u001b[0m 5ms/step - loss: 0.0066 - val_loss: 0.0143\n",
            "Epoch 45/100\n",
            "\u001b[1m22/22\u001b[0m \u001b[32m━━━━━━━━━━━━━━━━━━━━\u001b[0m\u001b[37m\u001b[0m \u001b[1m0s\u001b[0m 5ms/step - loss: 0.0059 - val_loss: 0.0140\n",
            "Epoch 46/100\n",
            "\u001b[1m22/22\u001b[0m \u001b[32m━━━━━━━━━━━━━━━━━━━━\u001b[0m\u001b[37m\u001b[0m \u001b[1m0s\u001b[0m 5ms/step - loss: 0.0062 - val_loss: 0.0141\n",
            "Epoch 47/100\n",
            "\u001b[1m22/22\u001b[0m \u001b[32m━━━━━━━━━━━━━━━━━━━━\u001b[0m\u001b[37m\u001b[0m \u001b[1m0s\u001b[0m 5ms/step - loss: 0.0056 - val_loss: 0.0135\n",
            "Epoch 48/100\n",
            "\u001b[1m22/22\u001b[0m \u001b[32m━━━━━━━━━━━━━━━━━━━━\u001b[0m\u001b[37m\u001b[0m \u001b[1m0s\u001b[0m 5ms/step - loss: 0.0057 - val_loss: 0.0137\n",
            "Epoch 49/100\n",
            "\u001b[1m22/22\u001b[0m \u001b[32m━━━━━━━━━━━━━━━━━━━━\u001b[0m\u001b[37m\u001b[0m \u001b[1m0s\u001b[0m 7ms/step - loss: 0.0054 - val_loss: 0.0136\n",
            "Epoch 50/100\n",
            "\u001b[1m22/22\u001b[0m \u001b[32m━━━━━━━━━━━━━━━━━━━━\u001b[0m\u001b[37m\u001b[0m \u001b[1m0s\u001b[0m 5ms/step - loss: 0.0057 - val_loss: 0.0131\n",
            "Epoch 51/100\n",
            "\u001b[1m22/22\u001b[0m \u001b[32m━━━━━━━━━━━━━━━━━━━━\u001b[0m\u001b[37m\u001b[0m \u001b[1m0s\u001b[0m 6ms/step - loss: 0.0053 - val_loss: 0.0129\n",
            "Epoch 52/100\n",
            "\u001b[1m22/22\u001b[0m \u001b[32m━━━━━━━━━━━━━━━━━━━━\u001b[0m\u001b[37m\u001b[0m \u001b[1m0s\u001b[0m 5ms/step - loss: 0.0053 - val_loss: 0.0130\n",
            "Epoch 53/100\n",
            "\u001b[1m22/22\u001b[0m \u001b[32m━━━━━━━━━━━━━━━━━━━━\u001b[0m\u001b[37m\u001b[0m \u001b[1m0s\u001b[0m 5ms/step - loss: 0.0052 - val_loss: 0.0132\n",
            "Epoch 54/100\n",
            "\u001b[1m22/22\u001b[0m \u001b[32m━━━━━━━━━━━━━━━━━━━━\u001b[0m\u001b[37m\u001b[0m \u001b[1m0s\u001b[0m 6ms/step - loss: 0.0049 - val_loss: 0.0129\n",
            "Epoch 55/100\n",
            "\u001b[1m22/22\u001b[0m \u001b[32m━━━━━━━━━━━━━━━━━━━━\u001b[0m\u001b[37m\u001b[0m \u001b[1m0s\u001b[0m 7ms/step - loss: 0.0047 - val_loss: 0.0127\n",
            "Epoch 56/100\n",
            "\u001b[1m22/22\u001b[0m \u001b[32m━━━━━━━━━━━━━━━━━━━━\u001b[0m\u001b[37m\u001b[0m \u001b[1m0s\u001b[0m 5ms/step - loss: 0.0044 - val_loss: 0.0127\n",
            "Epoch 57/100\n",
            "\u001b[1m22/22\u001b[0m \u001b[32m━━━━━━━━━━━━━━━━━━━━\u001b[0m\u001b[37m\u001b[0m \u001b[1m0s\u001b[0m 5ms/step - loss: 0.0047 - val_loss: 0.0127\n",
            "Epoch 58/100\n",
            "\u001b[1m22/22\u001b[0m \u001b[32m━━━━━━━━━━━━━━━━━━━━\u001b[0m\u001b[37m\u001b[0m \u001b[1m0s\u001b[0m 5ms/step - loss: 0.0047 - val_loss: 0.0126\n",
            "Epoch 59/100\n",
            "\u001b[1m22/22\u001b[0m \u001b[32m━━━━━━━━━━━━━━━━━━━━\u001b[0m\u001b[37m\u001b[0m \u001b[1m0s\u001b[0m 7ms/step - loss: 0.0043 - val_loss: 0.0127\n",
            "Epoch 60/100\n",
            "\u001b[1m22/22\u001b[0m \u001b[32m━━━━━━━━━━━━━━━━━━━━\u001b[0m\u001b[37m\u001b[0m \u001b[1m0s\u001b[0m 7ms/step - loss: 0.0040 - val_loss: 0.0122\n",
            "Epoch 61/100\n",
            "\u001b[1m22/22\u001b[0m \u001b[32m━━━━━━━━━━━━━━━━━━━━\u001b[0m\u001b[37m\u001b[0m \u001b[1m0s\u001b[0m 5ms/step - loss: 0.0042 - val_loss: 0.0120\n",
            "Epoch 62/100\n",
            "\u001b[1m22/22\u001b[0m \u001b[32m━━━━━━━━━━━━━━━━━━━━\u001b[0m\u001b[37m\u001b[0m \u001b[1m0s\u001b[0m 5ms/step - loss: 0.0041 - val_loss: 0.0119\n",
            "Epoch 63/100\n",
            "\u001b[1m22/22\u001b[0m \u001b[32m━━━━━━━━━━━━━━━━━━━━\u001b[0m\u001b[37m\u001b[0m \u001b[1m0s\u001b[0m 5ms/step - loss: 0.0041 - val_loss: 0.0118\n",
            "Epoch 64/100\n",
            "\u001b[1m22/22\u001b[0m \u001b[32m━━━━━━━━━━━━━━━━━━━━\u001b[0m\u001b[37m\u001b[0m \u001b[1m0s\u001b[0m 5ms/step - loss: 0.0044 - val_loss: 0.0116\n",
            "Epoch 65/100\n",
            "\u001b[1m22/22\u001b[0m \u001b[32m━━━━━━━━━━━━━━━━━━━━\u001b[0m\u001b[37m\u001b[0m \u001b[1m0s\u001b[0m 5ms/step - loss: 0.0038 - val_loss: 0.0116\n",
            "Epoch 66/100\n",
            "\u001b[1m22/22\u001b[0m \u001b[32m━━━━━━━━━━━━━━━━━━━━\u001b[0m\u001b[37m\u001b[0m \u001b[1m0s\u001b[0m 7ms/step - loss: 0.0041 - val_loss: 0.0115\n",
            "Epoch 67/100\n",
            "\u001b[1m22/22\u001b[0m \u001b[32m━━━━━━━━━━━━━━━━━━━━\u001b[0m\u001b[37m\u001b[0m \u001b[1m0s\u001b[0m 8ms/step - loss: 0.0036 - val_loss: 0.0120\n",
            "Epoch 68/100\n",
            "\u001b[1m22/22\u001b[0m \u001b[32m━━━━━━━━━━━━━━━━━━━━\u001b[0m\u001b[37m\u001b[0m \u001b[1m0s\u001b[0m 7ms/step - loss: 0.0040 - val_loss: 0.0114\n",
            "Epoch 69/100\n",
            "\u001b[1m22/22\u001b[0m \u001b[32m━━━━━━━━━━━━━━━━━━━━\u001b[0m\u001b[37m\u001b[0m \u001b[1m0s\u001b[0m 7ms/step - loss: 0.0037 - val_loss: 0.0114\n",
            "Epoch 70/100\n",
            "\u001b[1m22/22\u001b[0m \u001b[32m━━━━━━━━━━━━━━━━━━━━\u001b[0m\u001b[37m\u001b[0m \u001b[1m0s\u001b[0m 7ms/step - loss: 0.0037 - val_loss: 0.0113\n",
            "Epoch 71/100\n",
            "\u001b[1m22/22\u001b[0m \u001b[32m━━━━━━━━━━━━━━━━━━━━\u001b[0m\u001b[37m\u001b[0m \u001b[1m0s\u001b[0m 9ms/step - loss: 0.0036 - val_loss: 0.0111\n",
            "Epoch 72/100\n",
            "\u001b[1m22/22\u001b[0m \u001b[32m━━━━━━━━━━━━━━━━━━━━\u001b[0m\u001b[37m\u001b[0m \u001b[1m0s\u001b[0m 9ms/step - loss: 0.0035 - val_loss: 0.0111\n",
            "Epoch 73/100\n",
            "\u001b[1m22/22\u001b[0m \u001b[32m━━━━━━━━━━━━━━━━━━━━\u001b[0m\u001b[37m\u001b[0m \u001b[1m0s\u001b[0m 8ms/step - loss: 0.0035 - val_loss: 0.0110\n",
            "Epoch 74/100\n",
            "\u001b[1m22/22\u001b[0m \u001b[32m━━━━━━━━━━━━━━━━━━━━\u001b[0m\u001b[37m\u001b[0m \u001b[1m0s\u001b[0m 5ms/step - loss: 0.0036 - val_loss: 0.0108\n",
            "Epoch 75/100\n",
            "\u001b[1m22/22\u001b[0m \u001b[32m━━━━━━━━━━━━━━━━━━━━\u001b[0m\u001b[37m\u001b[0m \u001b[1m0s\u001b[0m 5ms/step - loss: 0.0032 - val_loss: 0.0109\n",
            "Epoch 76/100\n",
            "\u001b[1m22/22\u001b[0m \u001b[32m━━━━━━━━━━━━━━━━━━━━\u001b[0m\u001b[37m\u001b[0m \u001b[1m0s\u001b[0m 5ms/step - loss: 0.0035 - val_loss: 0.0107\n",
            "Epoch 77/100\n",
            "\u001b[1m22/22\u001b[0m \u001b[32m━━━━━━━━━━━━━━━━━━━━\u001b[0m\u001b[37m\u001b[0m \u001b[1m0s\u001b[0m 5ms/step - loss: 0.0034 - val_loss: 0.0107\n",
            "Epoch 78/100\n",
            "\u001b[1m22/22\u001b[0m \u001b[32m━━━━━━━━━━━━━━━━━━━━\u001b[0m\u001b[37m\u001b[0m \u001b[1m0s\u001b[0m 5ms/step - loss: 0.0035 - val_loss: 0.0104\n",
            "Epoch 79/100\n",
            "\u001b[1m22/22\u001b[0m \u001b[32m━━━━━━━━━━━━━━━━━━━━\u001b[0m\u001b[37m\u001b[0m \u001b[1m0s\u001b[0m 7ms/step - loss: 0.0032 - val_loss: 0.0106\n",
            "Epoch 80/100\n",
            "\u001b[1m22/22\u001b[0m \u001b[32m━━━━━━━━━━━━━━━━━━━━\u001b[0m\u001b[37m\u001b[0m \u001b[1m0s\u001b[0m 5ms/step - loss: 0.0032 - val_loss: 0.0108\n",
            "Epoch 81/100\n",
            "\u001b[1m22/22\u001b[0m \u001b[32m━━━━━━━━━━━━━━━━━━━━\u001b[0m\u001b[37m\u001b[0m \u001b[1m0s\u001b[0m 5ms/step - loss: 0.0030 - val_loss: 0.0107\n",
            "Epoch 82/100\n",
            "\u001b[1m22/22\u001b[0m \u001b[32m━━━━━━━━━━━━━━━━━━━━\u001b[0m\u001b[37m\u001b[0m \u001b[1m0s\u001b[0m 5ms/step - loss: 0.0031 - val_loss: 0.0103\n",
            "Epoch 83/100\n",
            "\u001b[1m22/22\u001b[0m \u001b[32m━━━━━━━━━━━━━━━━━━━━\u001b[0m\u001b[37m\u001b[0m \u001b[1m0s\u001b[0m 5ms/step - loss: 0.0029 - val_loss: 0.0105\n",
            "Epoch 84/100\n",
            "\u001b[1m22/22\u001b[0m \u001b[32m━━━━━━━━━━━━━━━━━━━━\u001b[0m\u001b[37m\u001b[0m \u001b[1m0s\u001b[0m 5ms/step - loss: 0.0028 - val_loss: 0.0103\n",
            "Epoch 85/100\n",
            "\u001b[1m22/22\u001b[0m \u001b[32m━━━━━━━━━━━━━━━━━━━━\u001b[0m\u001b[37m\u001b[0m \u001b[1m0s\u001b[0m 7ms/step - loss: 0.0030 - val_loss: 0.0101\n",
            "Epoch 86/100\n",
            "\u001b[1m22/22\u001b[0m \u001b[32m━━━━━━━━━━━━━━━━━━━━\u001b[0m\u001b[37m\u001b[0m \u001b[1m0s\u001b[0m 5ms/step - loss: 0.0030 - val_loss: 0.0104\n",
            "Epoch 87/100\n",
            "\u001b[1m22/22\u001b[0m \u001b[32m━━━━━━━━━━━━━━━━━━━━\u001b[0m\u001b[37m\u001b[0m \u001b[1m0s\u001b[0m 7ms/step - loss: 0.0031 - val_loss: 0.0104\n",
            "Epoch 88/100\n",
            "\u001b[1m22/22\u001b[0m \u001b[32m━━━━━━━━━━━━━━━━━━━━\u001b[0m\u001b[37m\u001b[0m \u001b[1m0s\u001b[0m 5ms/step - loss: 0.0030 - val_loss: 0.0106\n",
            "Epoch 89/100\n",
            "\u001b[1m22/22\u001b[0m \u001b[32m━━━━━━━━━━━━━━━━━━━━\u001b[0m\u001b[37m\u001b[0m \u001b[1m0s\u001b[0m 7ms/step - loss: 0.0027 - val_loss: 0.0101\n",
            "Epoch 90/100\n",
            "\u001b[1m22/22\u001b[0m \u001b[32m━━━━━━━━━━━━━━━━━━━━\u001b[0m\u001b[37m\u001b[0m \u001b[1m0s\u001b[0m 6ms/step - loss: 0.0027 - val_loss: 0.0100\n",
            "Epoch 91/100\n",
            "\u001b[1m22/22\u001b[0m \u001b[32m━━━━━━━━━━━━━━━━━━━━\u001b[0m\u001b[37m\u001b[0m \u001b[1m0s\u001b[0m 5ms/step - loss: 0.0029 - val_loss: 0.0098\n",
            "Epoch 92/100\n",
            "\u001b[1m22/22\u001b[0m \u001b[32m━━━━━━━━━━━━━━━━━━━━\u001b[0m\u001b[37m\u001b[0m \u001b[1m0s\u001b[0m 5ms/step - loss: 0.0025 - val_loss: 0.0098\n",
            "Epoch 93/100\n",
            "\u001b[1m22/22\u001b[0m \u001b[32m━━━━━━━━━━━━━━━━━━━━\u001b[0m\u001b[37m\u001b[0m \u001b[1m0s\u001b[0m 5ms/step - loss: 0.0025 - val_loss: 0.0099\n",
            "Epoch 94/100\n",
            "\u001b[1m22/22\u001b[0m \u001b[32m━━━━━━━━━━━━━━━━━━━━\u001b[0m\u001b[37m\u001b[0m \u001b[1m0s\u001b[0m 7ms/step - loss: 0.0027 - val_loss: 0.0096\n",
            "Epoch 95/100\n",
            "\u001b[1m22/22\u001b[0m \u001b[32m━━━━━━━━━━━━━━━━━━━━\u001b[0m\u001b[37m\u001b[0m \u001b[1m0s\u001b[0m 5ms/step - loss: 0.0029 - val_loss: 0.0102\n",
            "Epoch 96/100\n",
            "\u001b[1m22/22\u001b[0m \u001b[32m━━━━━━━━━━━━━━━━━━━━\u001b[0m\u001b[37m\u001b[0m \u001b[1m0s\u001b[0m 7ms/step - loss: 0.0027 - val_loss: 0.0101\n",
            "Epoch 97/100\n",
            "\u001b[1m22/22\u001b[0m \u001b[32m━━━━━━━━━━━━━━━━━━━━\u001b[0m\u001b[37m\u001b[0m \u001b[1m0s\u001b[0m 5ms/step - loss: 0.0026 - val_loss: 0.0095\n",
            "Epoch 98/100\n",
            "\u001b[1m22/22\u001b[0m \u001b[32m━━━━━━━━━━━━━━━━━━━━\u001b[0m\u001b[37m\u001b[0m \u001b[1m0s\u001b[0m 5ms/step - loss: 0.0025 - val_loss: 0.0097\n",
            "Epoch 99/100\n",
            "\u001b[1m22/22\u001b[0m \u001b[32m━━━━━━━━━━━━━━━━━━━━\u001b[0m\u001b[37m\u001b[0m \u001b[1m0s\u001b[0m 5ms/step - loss: 0.0025 - val_loss: 0.0096\n",
            "Epoch 100/100\n",
            "\u001b[1m22/22\u001b[0m \u001b[32m━━━━━━━━━━━━━━━━━━━━\u001b[0m\u001b[37m\u001b[0m \u001b[1m0s\u001b[0m 5ms/step - loss: 0.0026 - val_loss: 0.0098\n"
          ]
        },
        {
          "output_type": "execute_result",
          "data": {
            "text/plain": [
              "<keras.src.callbacks.history.History at 0x7c464bcdc550>"
            ]
          },
          "metadata": {},
          "execution_count": 192
        }
      ]
    },
    {
      "cell_type": "code",
      "source": [
        "y_test.min(), y_test.max()"
      ],
      "metadata": {
        "colab": {
          "base_uri": "https://localhost:8080/"
        },
        "id": "ZtcTuW8DkXhE",
        "outputId": "c5ca0836-6e25-4ca4-dd08-65288c85dba9"
      },
      "execution_count": 193,
      "outputs": [
        {
          "output_type": "execute_result",
          "data": {
            "text/plain": [
              "(-1.993978528521615, 2.009277927849781)"
            ]
          },
          "metadata": {},
          "execution_count": 193
        }
      ]
    },
    {
      "cell_type": "code",
      "source": [
        "y_pred = model.predict(X_test)\n",
        "\n",
        "rmse = np.sqrt(mean_squared_error(y_test, y_pred))\n",
        "r2 = r2_score(y_test, model.predict(X_test))\n",
        "mse = mean_squared_error(y_test, y_pred)"
      ],
      "metadata": {
        "colab": {
          "base_uri": "https://localhost:8080/"
        },
        "id": "drI5ZVS5kLJl",
        "outputId": "be9bb666-2178-4518-b623-8131451f94d0"
      },
      "execution_count": 194,
      "outputs": [
        {
          "output_type": "stream",
          "name": "stdout",
          "text": [
            "\u001b[1m7/7\u001b[0m \u001b[32m━━━━━━━━━━━━━━━━━━━━\u001b[0m\u001b[37m\u001b[0m \u001b[1m0s\u001b[0m 10ms/step\n",
            "\u001b[1m7/7\u001b[0m \u001b[32m━━━━━━━━━━━━━━━━━━━━\u001b[0m\u001b[37m\u001b[0m \u001b[1m0s\u001b[0m 4ms/step \n"
          ]
        }
      ]
    },
    {
      "cell_type": "code",
      "source": [
        "print('============Hasil RMSE Tensorflow==========')\n",
        "print(rmse)\n",
        "print('============Hasil R2 Tensorflow============')\n",
        "print(r2)\n",
        "print('============Hasil MSE Tensorflow============')\n",
        "print(mse)"
      ],
      "metadata": {
        "colab": {
          "base_uri": "https://localhost:8080/"
        },
        "id": "SLB2hjbMkQYF",
        "outputId": "2ccc053f-a5ce-4c27-a661-e6ac0da98ed1"
      },
      "execution_count": 195,
      "outputs": [
        {
          "output_type": "stream",
          "name": "stdout",
          "text": [
            "============Hasil RMSE Tensorflow==========\n",
            "0.09086685680457457\n",
            "============Hasil R2 Tensorflow============\n",
            "0.9923170293763008\n",
            "============Hasil MSE Tensorflow============\n",
            "0.00825678566554306\n"
          ]
        }
      ]
    },
    {
      "cell_type": "markdown",
      "source": [
        "## **Pytorch Model**"
      ],
      "metadata": {
        "id": "5A_Hr_kIta3e"
      }
    },
    {
      "cell_type": "code",
      "source": [
        "X_train_torch = torch.tensor(X_train, dtype=torch.float32)\n",
        "X_test_torch = torch.tensor(X_test, dtype=torch.float32)\n",
        "y_train_torch = torch.tensor(y_train, dtype=torch.float32).view(-1,1)\n",
        "y_test_torch = torch.tensor(y_test, dtype=torch.float32).view(-1,1)"
      ],
      "metadata": {
        "id": "GKpwYeMdw9z-"
      },
      "execution_count": 196,
      "outputs": []
    },
    {
      "cell_type": "code",
      "source": [
        "class SimpleNN(nn.Module):\n",
        "    def __init__(self,input):\n",
        "        super(SimpleNN, self).__init__()\n",
        "        self.fc1 = nn.Linear(input, 16)\n",
        "        self.fc2 = nn.Linear(16, 8)\n",
        "        self.fc3 = nn.Linear(8, 1)\n",
        "\n",
        "    def forward(self, x):\n",
        "        x = torch.relu(self.fc1(x))\n",
        "        x = torch.relu(self.fc2(x))\n",
        "        x = self.fc3(x)\n",
        "        return x"
      ],
      "metadata": {
        "id": "JRP6n-_Vtep9"
      },
      "execution_count": 197,
      "outputs": []
    },
    {
      "cell_type": "code",
      "source": [
        "model = SimpleNN(X_train.shape[1])\n",
        "criterion = nn.MSELoss()\n",
        "optimizer = optim.Adam(model.parameters(), lr=0.0005)"
      ],
      "metadata": {
        "id": "DIAm4R8EwTTQ"
      },
      "execution_count": 198,
      "outputs": []
    },
    {
      "cell_type": "code",
      "source": [
        "# Early Stopping Parameters\n",
        "best_val_loss = float(\"inf\")\n",
        "patience = 10\n",
        "patience_counter = 0\n",
        "\n",
        "# Training Loop dengan Early Stopping\n",
        "for epoch in range(2000):\n",
        "    model.train()\n",
        "    optimizer.zero_grad()\n",
        "    outputs = model(X_train_torch)\n",
        "    loss = criterion(outputs, y_train_torch)\n",
        "    loss.backward()\n",
        "    optimizer.step()\n",
        "\n",
        "    # Validation\n",
        "    model.eval()\n",
        "    with torch.no_grad():\n",
        "        val_outputs = model(X_test_torch)\n",
        "        val_loss = criterion(val_outputs, y_test_torch)\n",
        "\n",
        "    # Early Stopping Logic\n",
        "    if val_loss.item() < best_val_loss:\n",
        "        best_val_loss = val_loss.item()\n",
        "        patience_counter = 0\n",
        "        best_model_state = model.state_dict()\n",
        "    else:\n",
        "        patience_counter += 1\n",
        "\n",
        "    if patience_counter >= patience:\n",
        "        print(f\"Early stopping at epoch {epoch}\")\n",
        "        break\n",
        "\n",
        "    # Print loss setiap 10 epoch\n",
        "    if epoch % 100 == 0:\n",
        "        print(f\"Epoch {epoch}, Training Loss: {loss.item()}, Validation Loss: {val_loss.item()}\")\n",
        "\n",
        "# Load best model\n",
        "model.load_state_dict(best_model_state)\n",
        "\n",
        "print(\"PyTorch model training complete!\")\n",
        "\n",
        "# Evaluasi Model\n",
        "model.eval()\n",
        "with torch.no_grad():\n",
        "    y_pred = model(X_test_torch).numpy()"
      ],
      "metadata": {
        "colab": {
          "base_uri": "https://localhost:8080/"
        },
        "id": "lLiPlKoJwlxO",
        "outputId": "8c36391a-acb0-455b-c922-1e95e6f6f26e"
      },
      "execution_count": 199,
      "outputs": [
        {
          "output_type": "stream",
          "name": "stdout",
          "text": [
            "Epoch 0, Training Loss: 1.044875144958496, Validation Loss: 1.144873023033142\n",
            "Epoch 100, Training Loss: 0.7142022848129272, Validation Loss: 0.7921997308731079\n",
            "Epoch 200, Training Loss: 0.2539254128932953, Validation Loss: 0.2935522496700287\n",
            "Epoch 300, Training Loss: 0.04465922340750694, Validation Loss: 0.05883733928203583\n",
            "Epoch 400, Training Loss: 0.01641199365258217, Validation Loss: 0.021937096491456032\n",
            "Epoch 500, Training Loss: 0.010057514533400536, Validation Loss: 0.01425899937748909\n",
            "Epoch 600, Training Loss: 0.007541520521044731, Validation Loss: 0.011541221290826797\n",
            "Epoch 700, Training Loss: 0.005936484318226576, Validation Loss: 0.009880606085062027\n",
            "Epoch 800, Training Loss: 0.0050303740426898, Validation Loss: 0.00856733601540327\n",
            "Epoch 900, Training Loss: 0.0044424873776733875, Validation Loss: 0.007794658653438091\n",
            "Epoch 1000, Training Loss: 0.0040420168079435825, Validation Loss: 0.007270236033946276\n",
            "Epoch 1100, Training Loss: 0.0037140033673495054, Validation Loss: 0.006818106397986412\n",
            "Epoch 1200, Training Loss: 0.0034418124705553055, Validation Loss: 0.006412367336452007\n",
            "Epoch 1300, Training Loss: 0.00323037663474679, Validation Loss: 0.006071607582271099\n",
            "Epoch 1400, Training Loss: 0.0030455791857093573, Validation Loss: 0.005765764508396387\n",
            "Epoch 1500, Training Loss: 0.002904918510466814, Validation Loss: 0.005497083067893982\n",
            "Epoch 1600, Training Loss: 0.002773796208202839, Validation Loss: 0.005223843269050121\n",
            "Epoch 1700, Training Loss: 0.0026174418162554502, Validation Loss: 0.0049753086641430855\n",
            "Epoch 1800, Training Loss: 0.0024678134359419346, Validation Loss: 0.004733238834887743\n",
            "Epoch 1900, Training Loss: 0.002325977198779583, Validation Loss: 0.004494154825806618\n",
            "PyTorch model training complete!\n"
          ]
        }
      ]
    },
    {
      "cell_type": "code",
      "source": [
        "y_test_torch.min(), y_test_torch.max()"
      ],
      "metadata": {
        "colab": {
          "base_uri": "https://localhost:8080/"
        },
        "id": "HzWSjoxz0-aP",
        "outputId": "558170ea-47b2-4ab7-ff6b-f54d123d6cab"
      },
      "execution_count": 200,
      "outputs": [
        {
          "output_type": "execute_result",
          "data": {
            "text/plain": [
              "(tensor(-1.9940), tensor(2.0093))"
            ]
          },
          "metadata": {},
          "execution_count": 200
        }
      ]
    },
    {
      "cell_type": "code",
      "source": [
        "y_pred = model(X_test_torch).detach().numpy()\n",
        "\n",
        "rmse = np.sqrt(mean_squared_error(y_test_torch, model(X_test_torch).detach().numpy()))\n",
        "r2 = r2_score(y_test, y_pred)\n",
        "mse = mean_squared_error(y_test_torch, model(X_test_torch).detach().numpy())"
      ],
      "metadata": {
        "id": "X4SYkTXO0vbt"
      },
      "execution_count": 201,
      "outputs": []
    },
    {
      "cell_type": "code",
      "source": [
        "print('============Hasil RMSE Pytorch==========')\n",
        "print(rmse)\n",
        "print('============Hasil R2 Pytorch==========')\n",
        "print(r2)\n",
        "print('============Hasil MSE Pytorch==========')\n",
        "print(mse)"
      ],
      "metadata": {
        "colab": {
          "base_uri": "https://localhost:8080/"
        },
        "id": "RWbntkBH07L4",
        "outputId": "91785b3a-7d87-4b0b-95b5-e315d51db4a7"
      },
      "execution_count": 202,
      "outputs": [
        {
          "output_type": "stream",
          "name": "stdout",
          "text": [
            "============Hasil RMSE Pytorch==========\n",
            "0.06553327132815441\n",
            "============Hasil R2 Pytorch==========\n",
            "0.9960038490813596\n",
            "============Hasil MSE Pytorch==========\n",
            "0.004294609650969505\n"
          ]
        }
      ]
    },
    {
      "cell_type": "markdown",
      "source": [
        "## **Persamaan Matematika Digunakan**"
      ],
      "metadata": {
        "id": "NdX9NmF34qRm"
      }
    },
    {
      "cell_type": "markdown",
      "source": [
        "### **1. MSE**\n",
        "\n",
        "![MSE.png](data:image/png;base64,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)\n",
        "\n",
        "MSE digunakan untuk mengukur rata-rata kesalahan kuadrat antara nilai aktual (\n",
        "𝑦\n",
        "𝑖\n",
        " ) dan nilai prediksi (\n",
        "𝑦\n",
        "^\n",
        "𝑖\n",
        " )\n",
        "\n",
        "\n",
        "yi = nilai aktual\n",
        "\n",
        "𝑦\n",
        "^\n",
        "i\n",
        "​\n",
        "  = nilai prediksi\n",
        "\n",
        "𝑛\n",
        "= jumlah sampel\n",
        "\n",
        "MSE menghitung rata-rata dari selisih antara nilai aktual dan prediksi yang dikuadratkan.\n",
        "Semakin kecil MSE, semakin baik model dalam memprediksi data.\n"
      ],
      "metadata": {
        "id": "qfoOWQkW5X6I"
      }
    },
    {
      "cell_type": "markdown",
      "source": [
        "### **2. RMSE**\n",
        "\n",
        "RMSE adalah akar kuadrat dari MSE, yang mengubah skala kesalahan kembali ke satuan aslinya.\n",
        "\n",
        "![RMSE.png](data:image/png;base64,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)\n",
        "\n",
        "**n** adalah jumlah sampel dalam data\n",
        "\n",
        "**y_i** adalah nilai aktual\n",
        "\n",
        "**ŷ_i** adalah nilai prediksi\n",
        "\n",
        "*   RMSE menghitung rata-rata dari selisih kuadrat antara nilai prediksi dan nilai aktual kemudian diambil akar kuadratnya\n",
        "*   Semakin kecil nilai RMSE, semakin baik kualitas model tersebut."
      ],
      "metadata": {
        "id": "ZiSnye5lD9W6"
      }
    },
    {
      "cell_type": "markdown",
      "source": [
        "### **3. R^2 (R-Squared)**\n",
        "\n",
        "R ^2 mengukur seberapa baik model menjelaskan variasi dalam data.\n",
        "\n",
        "![r2.png](data:image/png;base64,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)\n",
        "\n",
        "*   y\n",
        "ˉ\n",
        "​\n",
        "  adalah rata-rata dari nilai aktual.\n",
        "* Penyebut menunjukkan total variasi dalam data.\n",
        "*   Pembilang menunjukkan kesalahan prediksi.\n",
        "*  Jika\n",
        "𝑅\n",
        "2\n",
        "=\n",
        "1\n",
        ", model sempurna. Jika mendekati 0 atau negatif, model buruk."
      ],
      "metadata": {
        "id": "YGp_yePPMQwP"
      }
    }
  ]
}