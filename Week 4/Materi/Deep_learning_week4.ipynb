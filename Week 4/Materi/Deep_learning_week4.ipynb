{
  "nbformat": 4,
  "nbformat_minor": 0,
  "metadata": {
    "colab": {
      "provenance": [],
      "include_colab_link": true
    },
    "kernelspec": {
      "name": "python3",
      "display_name": "Python 3"
    },
    "language_info": {
      "name": "python"
    }
  },
  "cells": [
    {
      "cell_type": "markdown",
      "metadata": {
        "id": "view-in-github",
        "colab_type": "text"
      },
      "source": [
        "<a href=\"https://colab.research.google.com/github/naufalfrdss/DeepLearning/blob/main/Week%204/Materi/Deep_learning_week4.ipynb\" target=\"_parent\"><img src=\"https://colab.research.google.com/assets/colab-badge.svg\" alt=\"Open In Colab\"/></a>"
      ]
    },
    {
      "cell_type": "code",
      "execution_count": null,
      "metadata": {
        "colab": {
          "base_uri": "https://localhost:8080/"
        },
        "id": "tMp-H-qJKuBz",
        "outputId": "c28cc49b-3f8d-41b8-eb26-76d73ec5d1f0"
      },
      "outputs": [
        {
          "output_type": "stream",
          "name": "stdout",
          "text": [
            "Memuat dataset IMDB...\n",
            "Downloading data from https://storage.googleapis.com/tensorflow/tf-keras-datasets/imdb.npz\n",
            "\u001b[1m17464789/17464789\u001b[0m \u001b[32m━━━━━━━━━━━━━━━━━━━━\u001b[0m\u001b[37m\u001b[0m \u001b[1m0s\u001b[0m 0us/step\n"
          ]
        }
      ],
      "source": [
        "import tensorflow as tf\n",
        "from tensorflow.keras.datasets import imdb\n",
        "from tensorflow.keras.preprocessing.sequence import pad_sequences\n",
        "from tensorflow.keras.models import Sequential\n",
        "from tensorflow.keras.layers import Embedding, SimpleRNN, LSTM, GRU, Dense\n",
        "from tensorflow.keras.models import Sequential\n",
        "from tensorflow.keras.layers import Embedding, LSTM, Dense, Dropout, GlobalMaxPooling1D\n",
        "\n",
        "# Parameter\n",
        "num_words = 100000\n",
        "maxlen = 400\n",
        "embedding_dim = 128\n",
        "\n",
        "\n",
        "print(\"Memuat dataset IMDB...\")\n",
        "(x_train, y_train), (x_test, y_test) = imdb.load_data(num_words=num_words)"
      ]
    },
    {
      "cell_type": "code",
      "source": [
        "print(\"Melakukan padding sequence...\")\n",
        "x_train = pad_sequences(x_train, maxlen=maxlen)\n",
        "x_test = pad_sequences(x_test, maxlen=maxlen)"
      ],
      "metadata": {
        "colab": {
          "base_uri": "https://localhost:8080/"
        },
        "id": "mneSEexbRmiN",
        "outputId": "26e725f3-6bd3-4496-ffd5-4c426bc78b3d"
      },
      "execution_count": null,
      "outputs": [
        {
          "output_type": "stream",
          "name": "stdout",
          "text": [
            "Melakukan padding sequence...\n"
          ]
        }
      ]
    },
    {
      "cell_type": "code",
      "source": [
        "from tensorflow.keras.regularizers import l2\n",
        "\n",
        "def build_model_rnn():\n",
        "    return model\n",
        "\n",
        "def build_model_lstm():\n",
        "    return model\n",
        "\n",
        "def build_model_gru():\n",
        "    return model"
      ],
      "metadata": {
        "id": "Qp7RTlUkRobA"
      },
      "execution_count": null,
      "outputs": []
    },
    {
      "cell_type": "code",
      "source": [
        "from tensorflow.keras.regularizers import l2\n",
        "from tensorflow.keras.models import Sequential\n",
        "from tensorflow.keras.layers import Embedding, SimpleRNN, LSTM, GRU, Dense\n",
        "\n",
        "def build_model_rnn():\n",
        "    model = Sequential()\n",
        "    model.add(Embedding(num_words, embedding_dim, input_length=maxlen))\n",
        "    model.add(SimpleRNN(128))  # You can adjust the number of units\n",
        "    model.add(Dense(1, activation='sigmoid'))\n",
        "    model.compile(loss='binary_crossentropy', optimizer='adam', metrics=['accuracy'])\n",
        "    return model\n",
        "\n",
        "def build_model_lstm():\n",
        "    model = Sequential()\n",
        "    model.add(Embedding(num_words, embedding_dim, input_length=maxlen))\n",
        "    model.add(LSTM(128))  # You can adjust the number of units\n",
        "    model.add(Dense(1, activation='sigmoid'))\n",
        "    model.compile(loss='binary_crossentropy', optimizer='adam', metrics=['accuracy'])\n",
        "    return model\n",
        "\n",
        "def build_model_gru():\n",
        "    model = Sequential()\n",
        "    model.add(Embedding(num_words, embedding_dim, input_length=maxlen))\n",
        "    model.add(GRU(128))  # You can adjust the number of units\n",
        "    model.add(Dense(1, activation='sigmoid'))\n",
        "    model.compile(loss='binary_crossentropy', optimizer='adam', metrics=['accuracy'])\n",
        "    return model"
      ],
      "metadata": {
        "id": "k-ATaEWbRye8"
      },
      "execution_count": null,
      "outputs": []
    },
    {
      "cell_type": "code",
      "source": [
        "from tensorflow.keras.callbacks import EarlyStopping\n",
        "\n",
        "# Inisialisasi EarlyStopping: monitor loss validasi, dengan sabar 3 epoch dan restore bobot terbaik\n",
        "early_stop = EarlyStopping()\n",
        "\n",
        "# Melatih model SimpleRNN dengan EarlyStopping\n",
        "from tensorflow.keras.callbacks import EarlyStopping\n",
        "\n",
        "# Inisialisasi EarlyStopping: monitor loss validasi, dengan sabar 3 epoch dan restore bobot terbaik\n",
        "early_stop = EarlyStopping()\n",
        "\n",
        "# Panggil fungsi build_model_rnn untuk membuat model\n",
        "model_rnn = build_model_rnn()\n",
        "# Melatih model SimpleRNN dengan EarlyStopping\n",
        "history_rnn = model_rnn.fit(\n",
        "    x_train, y_train,\n",
        "    epochs=10,  # atau epoch sesuai keinginan\n",
        "    batch_size=32,\n",
        "    validation_split=0.2,\n",
        "    callbacks=[early_stop]\n",
        ")\n",
        "score_rnn = model_rnn.evaluate(x_test, y_test, verbose=0)\n",
        "print(\"Akurasi Test SimpleRNN: {:.2f}%\".format(score_rnn[1] * 100))\n",
        "\n",
        "# Panggil fungsi build_model_lstm untuk membuat model\n",
        "model_lstm = build_model_lstm()\n",
        "# Melatih model LSTM dengan EarlyStopping\n",
        "history_lstm = model_lstm.fit(\n",
        "    x_train, y_train,\n",
        "    epochs=10,\n",
        "    batch_size=32,\n",
        "    validation_split=0.2,\n",
        "    callbacks=[early_stop]\n",
        ")\n",
        "score_lstm = model_lstm.evaluate(x_test, y_test, verbose=0)\n",
        "print(\"Akurasi Test LSTM: {:.2f}%\".format(score_lstm[1] * 100))\n",
        "\n",
        "\n",
        "# Panggil fungsi build_model_gru untuk membuat model\n",
        "model_gru = build_model_gru()\n",
        "# Melatih model GRU dengan EarlyStopping\n",
        "history_gru = model_gru.fit(\n",
        "    x_train, y_train,\n",
        "    epochs=10,\n",
        "    batch_size=32,\n",
        "    validation_split=0.2,\n",
        "    callbacks=[early_stop]\n",
        ")\n",
        "score_gru = model_gru.evaluate(x_test, y_test, verbose=0)\n",
        "print(\"Akurasi Test GRU: {:.2f}%\".format(score_gru[1] * 100))"
      ],
      "metadata": {
        "colab": {
          "base_uri": "https://localhost:8080/"
        },
        "id": "HuFPyzAhRzBc",
        "outputId": "52a8dcb8-2dfd-4aee-a9b0-ff72d30d5036"
      },
      "execution_count": null,
      "outputs": [
        {
          "metadata": {
            "tags": null
          },
          "name": "stdout",
          "output_type": "stream",
          "text": [
            "Epoch 1/10\n"
          ]
        },
        {
          "metadata": {
            "tags": null
          },
          "name": "stderr",
          "output_type": "stream",
          "text": [
            "/usr/local/lib/python3.11/dist-packages/keras/src/layers/core/embedding.py:90: UserWarning: Argument `input_length` is deprecated. Just remove it.\n",
            "  warnings.warn(\n"
          ]
        },
        {
          "output_type": "stream",
          "name": "stdout",
          "text": [
            "\u001b[1m625/625\u001b[0m \u001b[32m━━━━━━━━━━━━━━━━━━━━\u001b[0m\u001b[37m\u001b[0m \u001b[1m250s\u001b[0m 395ms/step - accuracy: 0.5617 - loss: 0.6762 - val_accuracy: 0.7600 - val_loss: 0.5037\n",
            "Epoch 2/10\n",
            "\u001b[1m625/625\u001b[0m \u001b[32m━━━━━━━━━━━━━━━━━━━━\u001b[0m\u001b[37m\u001b[0m \u001b[1m284s\u001b[0m 430ms/step - accuracy: 0.7891 - loss: 0.4573 - val_accuracy: 0.6478 - val_loss: 0.6135\n",
            "Akurasi Test SimpleRNN: 64.04%\n",
            "Epoch 1/10\n",
            "\u001b[1m625/625\u001b[0m \u001b[32m━━━━━━━━━━━━━━━━━━━━\u001b[0m\u001b[37m\u001b[0m \u001b[1m625s\u001b[0m 994ms/step - accuracy: 0.7261 - loss: 0.5231 - val_accuracy: 0.6878 - val_loss: 0.5744\n",
            "Epoch 2/10\n",
            "\u001b[1m625/625\u001b[0m \u001b[32m━━━━━━━━━━━━━━━━━━━━\u001b[0m\u001b[37m\u001b[0m \u001b[1m604s\u001b[0m 967ms/step - accuracy: 0.8471 - loss: 0.3637 - val_accuracy: 0.8250 - val_loss: 0.4140\n",
            "Epoch 3/10\n",
            "\u001b[1m625/625\u001b[0m \u001b[32m━━━━━━━━━━━━━━━━━━━━\u001b[0m\u001b[37m\u001b[0m \u001b[1m620s\u001b[0m 992ms/step - accuracy: 0.9252 - loss: 0.2082 - val_accuracy: 0.8680 - val_loss: 0.3784\n",
            "Epoch 4/10\n",
            "\u001b[1m625/625\u001b[0m \u001b[32m━━━━━━━━━━━━━━━━━━━━\u001b[0m\u001b[37m\u001b[0m \u001b[1m619s\u001b[0m 988ms/step - accuracy: 0.9665 - loss: 0.1033 - val_accuracy: 0.8678 - val_loss: 0.4257\n",
            "Akurasi Test LSTM: 85.81%\n",
            "Epoch 1/10\n",
            "\u001b[1m625/625\u001b[0m \u001b[32m━━━━━━━━━━━━━━━━━━━━\u001b[0m\u001b[37m\u001b[0m \u001b[1m508s\u001b[0m 804ms/step - accuracy: 0.6645 - loss: 0.5977 - val_accuracy: 0.8346 - val_loss: 0.3853\n",
            "Epoch 2/10\n",
            "\u001b[1m625/625\u001b[0m \u001b[32m━━━━━━━━━━━━━━━━━━━━\u001b[0m\u001b[37m\u001b[0m \u001b[1m561s\u001b[0m 803ms/step - accuracy: 0.8994 - loss: 0.2519 - val_accuracy: 0.8750 - val_loss: 0.3035\n",
            "Epoch 3/10\n",
            "\u001b[1m625/625\u001b[0m \u001b[32m━━━━━━━━━━━━━━━━━━━━\u001b[0m\u001b[37m\u001b[0m \u001b[1m501s\u001b[0m 802ms/step - accuracy: 0.9707 - loss: 0.0866 - val_accuracy: 0.8762 - val_loss: 0.3293\n",
            "Akurasi Test GRU: 86.56%\n"
          ]
        }
      ]
    },
    {
      "cell_type": "code",
      "source": [
        "import matplotlib.pyplot as plt\n",
        "\n",
        "def plot_history(history, model_name):\n",
        "    # Plot akurasi\n",
        "    plt.figure(figsize=(12, 5))\n",
        "\n",
        "    plt.subplot(1, 2, 1)\n",
        "    plt.plot(history.history['accuracy'], label='Train Accuracy')\n",
        "    plt.plot(history.history['val_accuracy'], label='Validation Accuracy')\n",
        "    plt.title(f'{model_name} - Accuracy')\n",
        "    plt.xlabel('Epoch')\n",
        "    plt.ylabel('Accuracy')\n",
        "    plt.legend()\n",
        "\n",
        "    # Plot loss\n",
        "    plt.subplot(1, 2, 2)\n",
        "    plt.plot(history.history['loss'], label='Train Loss')\n",
        "    plt.plot(history.history['val_loss'], label='Validation Loss')\n",
        "    plt.title(f'{model_name} - Loss')\n",
        "    plt.xlabel('Epoch')\n",
        "    plt.ylabel('Loss')\n",
        "    plt.legend()\n",
        "\n",
        "    plt.show()\n",
        "\n",
        "# Visualisasi untuk SimpleRNN\n",
        "plot_history(history_rnn, \"SimpleRNN\")\n",
        "\n",
        "# Visualisasi untuk LSTM\n",
        "plot_history(history_lstm, \"LSTM\")\n",
        "\n",
        "# Visualisasi untuk GRU\n",
        "plot_history(history_gru, \"GRU\")"
      ],
      "metadata": {
        "id": "Xg438_UaW86d"
      },
      "execution_count": null,
      "outputs": []
    }
  ]
}